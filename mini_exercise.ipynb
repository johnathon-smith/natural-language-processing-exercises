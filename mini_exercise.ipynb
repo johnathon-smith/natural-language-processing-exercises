{
 "cells": [
  {
   "cell_type": "markdown",
   "id": "75008183",
   "metadata": {},
   "source": [
    "# Web Scraping Mini-Exercise"
   ]
  },
  {
   "cell_type": "markdown",
   "id": "0ebe9ac5",
   "metadata": {},
   "source": [
    "From web-scraping-demo.zgulde.net gather all the info associated with each person on the people page."
   ]
  },
  {
   "cell_type": "code",
   "execution_count": 2,
   "id": "b1c6ee6d",
   "metadata": {},
   "outputs": [],
   "source": [
    "import numpy as np\n",
    "import pandas as pd\n",
    "from requests import get\n",
    "from bs4 import BeautifulSoup"
   ]
  },
  {
   "cell_type": "code",
   "execution_count": 3,
   "id": "97ba5c3b",
   "metadata": {},
   "outputs": [],
   "source": [
    "url = 'https://web-scraping-demo.zgulde.net/people'"
   ]
  },
  {
   "cell_type": "code",
   "execution_count": 5,
   "id": "3d9ea921",
   "metadata": {},
   "outputs": [],
   "source": [
    "response = get(url)"
   ]
  },
  {
   "cell_type": "code",
   "execution_count": 6,
   "id": "a7f18908",
   "metadata": {},
   "outputs": [
    {
     "data": {
      "text/plain": [
       "'<!DOCTYPE html>\\n<html lang=\"en\">\\n<head>\\n    <meta charset=\"UTF-8\">\\n    <meta http-equiv=\"X-UA-Compatible\" content=\"IE=edge\">\\n    <meta name=\"viewport\" content=\"width=device-width, initial-scale=1.0\">\\n    <title>Example People Page</title>\\n    <link href=\"https://unpkg.com/tailwindcss@^2/dist/tailwind.min.css\" rel=\"stylesheet\" />\\n    <link rel=\"stylesheet\" href=\"https://cdn.jsdelivr.net/npm/bootstrap-icons@1.4.1/font/bootstrap-icons.css\" />\\n</head>\\n<body class=\"mx-auto max-w-screen-lg pb-32\">\\n    \\n<h1 class=\"my-5 text-4xl text-center\">People</h1>\\n\\n<div class=\"my-5 text-red-800 px-5 py-3 bg-red-100 font-bold\">\\n    <p>\\n        <i class=\"bi bi-exclamation-circle text-xl\"></i>\\n        All data on this page is strictly for demonstration purposes and fake.\\n    </p>\\n</div>\\n\\n<div id=\"people\" class=\"grid grid-cols-2 gap-x-12 gap-y-16\">\\n    \\n    <div class=\"person border rounded px-3 py-5 grid grid-cols-2 gap-x-3 bg-purple-50 hover:shadow-lg transition duration-500\">\\n        <h2 class=\"text-2xl text-purple-800 name col-span-full border-b\">Michelle Dixon</h2>\\n        <p class=\"quote col-span-full px-5 py-5 text-center text-gray-500\">\\n            \"Pre-emptive dedicated pricing structure\"\\n        </p>\\n        <div class=\"grid grid-cols-9\">\\n            <i class=\"bi bi-envelope-fill text-purple-800\"></i>\\n            <p class=\"email col-span-8\">kellyjones@yahoo.com</p>\\n            <i class=\"bi bi-telephone-fill text-purple-800\"></i>\\n            <p class=\"phone col-span-8\">132.680.2766</p>\\n        </div>\\n        <div class=\"address grid grid-cols-9\">\\n            <i class=\"bi bi-geo-fill text-purple-800\"></i>\\n            <p class=\"col-span-8\">\\n                5620 Crystal Summit <br />\\n                North Zacharyfort, VA 18645\\n            </p>\\n        </div>\\n    </div>\\n    \\n    <div class=\"person border rounded px-3 py-5 grid grid-cols-2 gap-x-3 bg-purple-50 hover:shadow-lg transition duration-500\">\\n        <h2 class=\"text-2xl text-purple-800 name col-span-full border-b\">Valerie Trevino</h2>\\n        <p class=\"quote col-span-full px-5 py-5 text-center text-gray-500\">\\n            \"Advanced 5thgeneration paradigm\"\\n        </p>\\n        <div class=\"grid grid-cols-9\">\\n            <i class=\"bi bi-envelope-fill text-purple-800\"></i>\\n            <p class=\"email col-span-8\">richard62@erickson-james.com</p>\\n            <i class=\"bi bi-telephone-fill text-purple-800\"></i>\\n            <p class=\"phone col-span-8\">(482)777-6383</p>\\n        </div>\\n        <div class=\"address grid grid-cols-9\">\\n            <i class=\"bi bi-geo-fill text-purple-800\"></i>\\n            <p class=\"col-span-8\">\\n                023 Powers Landing Apt. 444 <br />\\n                East Kristina, GA 59570\\n            </p>\\n        </div>\\n    </div>\\n    \\n    <div class=\"person border rounded px-3 py-5 grid grid-cols-2 gap-x-3 bg-purple-50 hover:shadow-lg transition duration-500\">\\n        <h2 class=\"text-2xl text-purple-800 name col-span-full border-b\">Rebecca Olsen</h2>\\n        <p class=\"quote col-span-full px-5 py-5 text-center text-gray-500\">\\n            \"Cross-group asynchronous archive\"\\n        </p>\\n        <div class=\"grid grid-cols-9\">\\n            <i class=\"bi bi-envelope-fill text-purple-800\"></i>\\n            <p class=\"email col-span-8\">savannahcarpenter@yahoo.com</p>\\n            <i class=\"bi bi-telephone-fill text-purple-800\"></i>\\n            <p class=\"phone col-span-8\">001-779-532-2860x255</p>\\n        </div>\\n        <div class=\"address grid grid-cols-9\">\\n            <i class=\"bi bi-geo-fill text-purple-800\"></i>\\n            <p class=\"col-span-8\">\\n                88174 Copeland Ferry Suite 467 <br />\\n                Donaldstad, UT 70604\\n            </p>\\n        </div>\\n    </div>\\n    \\n    <div class=\"person border rounded px-3 py-5 grid grid-cols-2 gap-x-3 bg-purple-50 hover:shadow-lg transition duration-500\">\\n        <h2 class=\"text-2xl text-purple-800 name col-span-full border-b\">Brandon Cunningham</h2>\\n        <p class=\"quote col-span-full px-5 py-5 text-center text-gray-500\">\\n            \"Phased encompassing alliance\"\\n        </p>\\n        <div class=\"grid grid-cols-9\">\\n            <i class=\"bi bi-envelope-fill text-purple-800\"></i>\\n            <p class=\"email col-span-8\">martineztimothy@yahoo.com</p>\\n            <i class=\"bi bi-telephone-fill text-purple-800\"></i>\\n            <p class=\"phone col-span-8\">001-863-624-1095x137</p>\\n        </div>\\n        <div class=\"address grid grid-cols-9\">\\n            <i class=\"bi bi-geo-fill text-purple-800\"></i>\\n            <p class=\"col-span-8\">\\n                00109 Lee Loaf <br />\\n                West Meredithshire, OK 97151\\n            </p>\\n        </div>\\n    </div>\\n    \\n    <div class=\"person border rounded px-3 py-5 grid grid-cols-2 gap-x-3 bg-purple-50 hover:shadow-lg transition duration-500\">\\n        <h2 class=\"text-2xl text-purple-800 name col-span-full border-b\">Cindy Davis</h2>\\n        <p class=\"quote col-span-full px-5 py-5 text-center text-gray-500\">\\n            \"Open-source regional implementation\"\\n        </p>\\n        <div class=\"grid grid-cols-9\">\\n            <i class=\"bi bi-envelope-fill text-purple-800\"></i>\\n            <p class=\"email col-span-8\">fstephens@yahoo.com</p>\\n            <i class=\"bi bi-telephone-fill text-purple-800\"></i>\\n            <p class=\"phone col-span-8\">536-735-0657</p>\\n        </div>\\n        <div class=\"address grid grid-cols-9\">\\n            <i class=\"bi bi-geo-fill text-purple-800\"></i>\\n            <p class=\"col-span-8\">\\n                68438 Walsh Islands <br />\\n                Mendeztown, HI 03137\\n            </p>\\n        </div>\\n    </div>\\n    \\n    <div class=\"person border rounded px-3 py-5 grid grid-cols-2 gap-x-3 bg-purple-50 hover:shadow-lg transition duration-500\">\\n        <h2 class=\"text-2xl text-purple-800 name col-span-full border-b\">Lisa Baker</h2>\\n        <p class=\"quote col-span-full px-5 py-5 text-center text-gray-500\">\\n            \"Monitored hybrid process improvement\"\\n        </p>\\n        <div class=\"grid grid-cols-9\">\\n            <i class=\"bi bi-envelope-fill text-purple-800\"></i>\\n            <p class=\"email col-span-8\">bmartinez@gmail.com</p>\\n            <i class=\"bi bi-telephone-fill text-purple-800\"></i>\\n            <p class=\"phone col-span-8\">2293822862</p>\\n        </div>\\n        <div class=\"address grid grid-cols-9\">\\n            <i class=\"bi bi-geo-fill text-purple-800\"></i>\\n            <p class=\"col-span-8\">\\n                611 Saunders Manor Suite 882 <br />\\n                Johnsonfurt, HI 42760\\n            </p>\\n        </div>\\n    </div>\\n    \\n    <div class=\"person border rounded px-3 py-5 grid grid-cols-2 gap-x-3 bg-purple-50 hover:shadow-lg transition duration-500\">\\n        <h2 class=\"text-2xl text-purple-800 name col-span-full border-b\">Corey Doyle</h2>\\n        <p class=\"quote col-span-full px-5 py-5 text-center text-gray-500\">\\n            \"Networked upward-trending Local Area Network\"\\n        </p>\\n        <div class=\"grid grid-cols-9\">\\n            <i class=\"bi bi-envelope-fill text-purple-800\"></i>\\n            <p class=\"email col-span-8\">bryantjohn@dillon-martinez.com</p>\\n            <i class=\"bi bi-telephone-fill text-purple-800\"></i>\\n            <p class=\"phone col-span-8\">+1-402-634-8773x9683</p>\\n        </div>\\n        <div class=\"address grid grid-cols-9\">\\n            <i class=\"bi bi-geo-fill text-purple-800\"></i>\\n            <p class=\"col-span-8\">\\n                41478 Fritz Courts <br />\\n                Maryshire, CO 93185\\n            </p>\\n        </div>\\n    </div>\\n    \\n    <div class=\"person border rounded px-3 py-5 grid grid-cols-2 gap-x-3 bg-purple-50 hover:shadow-lg transition duration-500\">\\n        <h2 class=\"text-2xl text-purple-800 name col-span-full border-b\">Rhonda Miller</h2>\\n        <p class=\"quote col-span-full px-5 py-5 text-center text-gray-500\">\\n            \"Profound global challenge\"\\n        </p>\\n        <div class=\"grid grid-cols-9\">\\n            <i class=\"bi bi-envelope-fill text-purple-800\"></i>\\n            <p class=\"email col-span-8\">stephaniejohnson@yahoo.com</p>\\n            <i class=\"bi bi-telephone-fill text-purple-800\"></i>\\n            <p class=\"phone col-span-8\">(765)723-9796</p>\\n        </div>\\n        <div class=\"address grid grid-cols-9\">\\n            <i class=\"bi bi-geo-fill text-purple-800\"></i>\\n            <p class=\"col-span-8\">\\n                065 Robert Crossing <br />\\n                New Rebecca, OR 91366\\n            </p>\\n        </div>\\n    </div>\\n    \\n    <div class=\"person border rounded px-3 py-5 grid grid-cols-2 gap-x-3 bg-purple-50 hover:shadow-lg transition duration-500\">\\n        <h2 class=\"text-2xl text-purple-800 name col-span-full border-b\">Derek Ross</h2>\\n        <p class=\"quote col-span-full px-5 py-5 text-center text-gray-500\">\\n            \"Visionary analyzing capability\"\\n        </p>\\n        <div class=\"grid grid-cols-9\">\\n            <i class=\"bi bi-envelope-fill text-purple-800\"></i>\\n            <p class=\"email col-span-8\">drich@crane.com</p>\\n            <i class=\"bi bi-telephone-fill text-purple-800\"></i>\\n            <p class=\"phone col-span-8\">964-918-4378</p>\\n        </div>\\n        <div class=\"address grid grid-cols-9\">\\n            <i class=\"bi bi-geo-fill text-purple-800\"></i>\\n            <p class=\"col-span-8\">\\n                182 Jarvis Trafficway <br />\\n                Anthonybury, ME 50228\\n            </p>\\n        </div>\\n    </div>\\n    \\n    <div class=\"person border rounded px-3 py-5 grid grid-cols-2 gap-x-3 bg-purple-50 hover:shadow-lg transition duration-500\">\\n        <h2 class=\"text-2xl text-purple-800 name col-span-full border-b\">Meghan Morton</h2>\\n        <p class=\"quote col-span-full px-5 py-5 text-center text-gray-500\">\\n            \"Front-line grid-enabled archive\"\\n        </p>\\n        <div class=\"grid grid-cols-9\">\\n            <i class=\"bi bi-envelope-fill text-purple-800\"></i>\\n            <p class=\"email col-span-8\">acevedosamantha@peck-harrington.com</p>\\n            <i class=\"bi bi-telephone-fill text-purple-800\"></i>\\n            <p class=\"phone col-span-8\">738-008-6187</p>\\n        </div>\\n        <div class=\"address grid grid-cols-9\">\\n            <i class=\"bi bi-geo-fill text-purple-800\"></i>\\n            <p class=\"col-span-8\">\\n                76861 Carroll Pike Apt. 454 <br />\\n                Harpershire, NJ 76159\\n            </p>\\n        </div>\\n    </div>\\n    \\n</div>\\n\\n</body>\\n</html>'"
      ]
     },
     "execution_count": 6,
     "metadata": {},
     "output_type": "execute_result"
    }
   ],
   "source": [
    "response.text"
   ]
  },
  {
   "cell_type": "code",
   "execution_count": 8,
   "id": "457d3708",
   "metadata": {},
   "outputs": [],
   "source": [
    "soup = BeautifulSoup(response.content, 'html.parser')"
   ]
  },
  {
   "cell_type": "code",
   "execution_count": 9,
   "id": "b4b11a12",
   "metadata": {},
   "outputs": [
    {
     "data": {
      "text/plain": [
       "<!DOCTYPE html>\n",
       "\n",
       "<html lang=\"en\">\n",
       "<head>\n",
       "<meta charset=\"utf-8\"/>\n",
       "<meta content=\"IE=edge\" http-equiv=\"X-UA-Compatible\"/>\n",
       "<meta content=\"width=device-width, initial-scale=1.0\" name=\"viewport\"/>\n",
       "<title>Example People Page</title>\n",
       "<link href=\"https://unpkg.com/tailwindcss@^2/dist/tailwind.min.css\" rel=\"stylesheet\"/>\n",
       "<link href=\"https://cdn.jsdelivr.net/npm/bootstrap-icons@1.4.1/font/bootstrap-icons.css\" rel=\"stylesheet\"/>\n",
       "</head>\n",
       "<body class=\"mx-auto max-w-screen-lg pb-32\">\n",
       "<h1 class=\"my-5 text-4xl text-center\">People</h1>\n",
       "<div class=\"my-5 text-red-800 px-5 py-3 bg-red-100 font-bold\">\n",
       "<p>\n",
       "<i class=\"bi bi-exclamation-circle text-xl\"></i>\n",
       "        All data on this page is strictly for demonstration purposes and fake.\n",
       "    </p>\n",
       "</div>\n",
       "<div class=\"grid grid-cols-2 gap-x-12 gap-y-16\" id=\"people\">\n",
       "<div class=\"person border rounded px-3 py-5 grid grid-cols-2 gap-x-3 bg-purple-50 hover:shadow-lg transition duration-500\">\n",
       "<h2 class=\"text-2xl text-purple-800 name col-span-full border-b\">Michelle Dixon</h2>\n",
       "<p class=\"quote col-span-full px-5 py-5 text-center text-gray-500\">\n",
       "            \"Pre-emptive dedicated pricing structure\"\n",
       "        </p>\n",
       "<div class=\"grid grid-cols-9\">\n",
       "<i class=\"bi bi-envelope-fill text-purple-800\"></i>\n",
       "<p class=\"email col-span-8\">kellyjones@yahoo.com</p>\n",
       "<i class=\"bi bi-telephone-fill text-purple-800\"></i>\n",
       "<p class=\"phone col-span-8\">132.680.2766</p>\n",
       "</div>\n",
       "<div class=\"address grid grid-cols-9\">\n",
       "<i class=\"bi bi-geo-fill text-purple-800\"></i>\n",
       "<p class=\"col-span-8\">\n",
       "                5620 Crystal Summit <br/>\n",
       "                North Zacharyfort, VA 18645\n",
       "            </p>\n",
       "</div>\n",
       "</div>\n",
       "<div class=\"person border rounded px-3 py-5 grid grid-cols-2 gap-x-3 bg-purple-50 hover:shadow-lg transition duration-500\">\n",
       "<h2 class=\"text-2xl text-purple-800 name col-span-full border-b\">Valerie Trevino</h2>\n",
       "<p class=\"quote col-span-full px-5 py-5 text-center text-gray-500\">\n",
       "            \"Advanced 5thgeneration paradigm\"\n",
       "        </p>\n",
       "<div class=\"grid grid-cols-9\">\n",
       "<i class=\"bi bi-envelope-fill text-purple-800\"></i>\n",
       "<p class=\"email col-span-8\">richard62@erickson-james.com</p>\n",
       "<i class=\"bi bi-telephone-fill text-purple-800\"></i>\n",
       "<p class=\"phone col-span-8\">(482)777-6383</p>\n",
       "</div>\n",
       "<div class=\"address grid grid-cols-9\">\n",
       "<i class=\"bi bi-geo-fill text-purple-800\"></i>\n",
       "<p class=\"col-span-8\">\n",
       "                023 Powers Landing Apt. 444 <br/>\n",
       "                East Kristina, GA 59570\n",
       "            </p>\n",
       "</div>\n",
       "</div>\n",
       "<div class=\"person border rounded px-3 py-5 grid grid-cols-2 gap-x-3 bg-purple-50 hover:shadow-lg transition duration-500\">\n",
       "<h2 class=\"text-2xl text-purple-800 name col-span-full border-b\">Rebecca Olsen</h2>\n",
       "<p class=\"quote col-span-full px-5 py-5 text-center text-gray-500\">\n",
       "            \"Cross-group asynchronous archive\"\n",
       "        </p>\n",
       "<div class=\"grid grid-cols-9\">\n",
       "<i class=\"bi bi-envelope-fill text-purple-800\"></i>\n",
       "<p class=\"email col-span-8\">savannahcarpenter@yahoo.com</p>\n",
       "<i class=\"bi bi-telephone-fill text-purple-800\"></i>\n",
       "<p class=\"phone col-span-8\">001-779-532-2860x255</p>\n",
       "</div>\n",
       "<div class=\"address grid grid-cols-9\">\n",
       "<i class=\"bi bi-geo-fill text-purple-800\"></i>\n",
       "<p class=\"col-span-8\">\n",
       "                88174 Copeland Ferry Suite 467 <br/>\n",
       "                Donaldstad, UT 70604\n",
       "            </p>\n",
       "</div>\n",
       "</div>\n",
       "<div class=\"person border rounded px-3 py-5 grid grid-cols-2 gap-x-3 bg-purple-50 hover:shadow-lg transition duration-500\">\n",
       "<h2 class=\"text-2xl text-purple-800 name col-span-full border-b\">Brandon Cunningham</h2>\n",
       "<p class=\"quote col-span-full px-5 py-5 text-center text-gray-500\">\n",
       "            \"Phased encompassing alliance\"\n",
       "        </p>\n",
       "<div class=\"grid grid-cols-9\">\n",
       "<i class=\"bi bi-envelope-fill text-purple-800\"></i>\n",
       "<p class=\"email col-span-8\">martineztimothy@yahoo.com</p>\n",
       "<i class=\"bi bi-telephone-fill text-purple-800\"></i>\n",
       "<p class=\"phone col-span-8\">001-863-624-1095x137</p>\n",
       "</div>\n",
       "<div class=\"address grid grid-cols-9\">\n",
       "<i class=\"bi bi-geo-fill text-purple-800\"></i>\n",
       "<p class=\"col-span-8\">\n",
       "                00109 Lee Loaf <br/>\n",
       "                West Meredithshire, OK 97151\n",
       "            </p>\n",
       "</div>\n",
       "</div>\n",
       "<div class=\"person border rounded px-3 py-5 grid grid-cols-2 gap-x-3 bg-purple-50 hover:shadow-lg transition duration-500\">\n",
       "<h2 class=\"text-2xl text-purple-800 name col-span-full border-b\">Cindy Davis</h2>\n",
       "<p class=\"quote col-span-full px-5 py-5 text-center text-gray-500\">\n",
       "            \"Open-source regional implementation\"\n",
       "        </p>\n",
       "<div class=\"grid grid-cols-9\">\n",
       "<i class=\"bi bi-envelope-fill text-purple-800\"></i>\n",
       "<p class=\"email col-span-8\">fstephens@yahoo.com</p>\n",
       "<i class=\"bi bi-telephone-fill text-purple-800\"></i>\n",
       "<p class=\"phone col-span-8\">536-735-0657</p>\n",
       "</div>\n",
       "<div class=\"address grid grid-cols-9\">\n",
       "<i class=\"bi bi-geo-fill text-purple-800\"></i>\n",
       "<p class=\"col-span-8\">\n",
       "                68438 Walsh Islands <br/>\n",
       "                Mendeztown, HI 03137\n",
       "            </p>\n",
       "</div>\n",
       "</div>\n",
       "<div class=\"person border rounded px-3 py-5 grid grid-cols-2 gap-x-3 bg-purple-50 hover:shadow-lg transition duration-500\">\n",
       "<h2 class=\"text-2xl text-purple-800 name col-span-full border-b\">Lisa Baker</h2>\n",
       "<p class=\"quote col-span-full px-5 py-5 text-center text-gray-500\">\n",
       "            \"Monitored hybrid process improvement\"\n",
       "        </p>\n",
       "<div class=\"grid grid-cols-9\">\n",
       "<i class=\"bi bi-envelope-fill text-purple-800\"></i>\n",
       "<p class=\"email col-span-8\">bmartinez@gmail.com</p>\n",
       "<i class=\"bi bi-telephone-fill text-purple-800\"></i>\n",
       "<p class=\"phone col-span-8\">2293822862</p>\n",
       "</div>\n",
       "<div class=\"address grid grid-cols-9\">\n",
       "<i class=\"bi bi-geo-fill text-purple-800\"></i>\n",
       "<p class=\"col-span-8\">\n",
       "                611 Saunders Manor Suite 882 <br/>\n",
       "                Johnsonfurt, HI 42760\n",
       "            </p>\n",
       "</div>\n",
       "</div>\n",
       "<div class=\"person border rounded px-3 py-5 grid grid-cols-2 gap-x-3 bg-purple-50 hover:shadow-lg transition duration-500\">\n",
       "<h2 class=\"text-2xl text-purple-800 name col-span-full border-b\">Corey Doyle</h2>\n",
       "<p class=\"quote col-span-full px-5 py-5 text-center text-gray-500\">\n",
       "            \"Networked upward-trending Local Area Network\"\n",
       "        </p>\n",
       "<div class=\"grid grid-cols-9\">\n",
       "<i class=\"bi bi-envelope-fill text-purple-800\"></i>\n",
       "<p class=\"email col-span-8\">bryantjohn@dillon-martinez.com</p>\n",
       "<i class=\"bi bi-telephone-fill text-purple-800\"></i>\n",
       "<p class=\"phone col-span-8\">+1-402-634-8773x9683</p>\n",
       "</div>\n",
       "<div class=\"address grid grid-cols-9\">\n",
       "<i class=\"bi bi-geo-fill text-purple-800\"></i>\n",
       "<p class=\"col-span-8\">\n",
       "                41478 Fritz Courts <br/>\n",
       "                Maryshire, CO 93185\n",
       "            </p>\n",
       "</div>\n",
       "</div>\n",
       "<div class=\"person border rounded px-3 py-5 grid grid-cols-2 gap-x-3 bg-purple-50 hover:shadow-lg transition duration-500\">\n",
       "<h2 class=\"text-2xl text-purple-800 name col-span-full border-b\">Rhonda Miller</h2>\n",
       "<p class=\"quote col-span-full px-5 py-5 text-center text-gray-500\">\n",
       "            \"Profound global challenge\"\n",
       "        </p>\n",
       "<div class=\"grid grid-cols-9\">\n",
       "<i class=\"bi bi-envelope-fill text-purple-800\"></i>\n",
       "<p class=\"email col-span-8\">stephaniejohnson@yahoo.com</p>\n",
       "<i class=\"bi bi-telephone-fill text-purple-800\"></i>\n",
       "<p class=\"phone col-span-8\">(765)723-9796</p>\n",
       "</div>\n",
       "<div class=\"address grid grid-cols-9\">\n",
       "<i class=\"bi bi-geo-fill text-purple-800\"></i>\n",
       "<p class=\"col-span-8\">\n",
       "                065 Robert Crossing <br/>\n",
       "                New Rebecca, OR 91366\n",
       "            </p>\n",
       "</div>\n",
       "</div>\n",
       "<div class=\"person border rounded px-3 py-5 grid grid-cols-2 gap-x-3 bg-purple-50 hover:shadow-lg transition duration-500\">\n",
       "<h2 class=\"text-2xl text-purple-800 name col-span-full border-b\">Derek Ross</h2>\n",
       "<p class=\"quote col-span-full px-5 py-5 text-center text-gray-500\">\n",
       "            \"Visionary analyzing capability\"\n",
       "        </p>\n",
       "<div class=\"grid grid-cols-9\">\n",
       "<i class=\"bi bi-envelope-fill text-purple-800\"></i>\n",
       "<p class=\"email col-span-8\">drich@crane.com</p>\n",
       "<i class=\"bi bi-telephone-fill text-purple-800\"></i>\n",
       "<p class=\"phone col-span-8\">964-918-4378</p>\n",
       "</div>\n",
       "<div class=\"address grid grid-cols-9\">\n",
       "<i class=\"bi bi-geo-fill text-purple-800\"></i>\n",
       "<p class=\"col-span-8\">\n",
       "                182 Jarvis Trafficway <br/>\n",
       "                Anthonybury, ME 50228\n",
       "            </p>\n",
       "</div>\n",
       "</div>\n",
       "<div class=\"person border rounded px-3 py-5 grid grid-cols-2 gap-x-3 bg-purple-50 hover:shadow-lg transition duration-500\">\n",
       "<h2 class=\"text-2xl text-purple-800 name col-span-full border-b\">Meghan Morton</h2>\n",
       "<p class=\"quote col-span-full px-5 py-5 text-center text-gray-500\">\n",
       "            \"Front-line grid-enabled archive\"\n",
       "        </p>\n",
       "<div class=\"grid grid-cols-9\">\n",
       "<i class=\"bi bi-envelope-fill text-purple-800\"></i>\n",
       "<p class=\"email col-span-8\">acevedosamantha@peck-harrington.com</p>\n",
       "<i class=\"bi bi-telephone-fill text-purple-800\"></i>\n",
       "<p class=\"phone col-span-8\">738-008-6187</p>\n",
       "</div>\n",
       "<div class=\"address grid grid-cols-9\">\n",
       "<i class=\"bi bi-geo-fill text-purple-800\"></i>\n",
       "<p class=\"col-span-8\">\n",
       "                76861 Carroll Pike Apt. 454 <br/>\n",
       "                Harpershire, NJ 76159\n",
       "            </p>\n",
       "</div>\n",
       "</div>\n",
       "</div>\n",
       "</body>\n",
       "</html>"
      ]
     },
     "execution_count": 9,
     "metadata": {},
     "output_type": "execute_result"
    }
   ],
   "source": [
    "soup"
   ]
  },
  {
   "cell_type": "code",
   "execution_count": 13,
   "id": "ce12499e",
   "metadata": {},
   "outputs": [],
   "source": [
    "people = soup.find_all('div', class_ = 'person')"
   ]
  },
  {
   "cell_type": "code",
   "execution_count": 15,
   "id": "4d2a914c",
   "metadata": {},
   "outputs": [
    {
     "data": {
      "text/plain": [
       "10"
      ]
     },
     "execution_count": 15,
     "metadata": {},
     "output_type": "execute_result"
    }
   ],
   "source": [
    "len(people)"
   ]
  },
  {
   "cell_type": "code",
   "execution_count": 16,
   "id": "ef0d044f",
   "metadata": {},
   "outputs": [],
   "source": [
    "person = people[0]"
   ]
  },
  {
   "cell_type": "code",
   "execution_count": 17,
   "id": "83e6b26a",
   "metadata": {},
   "outputs": [
    {
     "data": {
      "text/plain": [
       "<div class=\"person border rounded px-3 py-5 grid grid-cols-2 gap-x-3 bg-purple-50 hover:shadow-lg transition duration-500\">\n",
       "<h2 class=\"text-2xl text-purple-800 name col-span-full border-b\">Michelle Dixon</h2>\n",
       "<p class=\"quote col-span-full px-5 py-5 text-center text-gray-500\">\n",
       "            \"Pre-emptive dedicated pricing structure\"\n",
       "        </p>\n",
       "<div class=\"grid grid-cols-9\">\n",
       "<i class=\"bi bi-envelope-fill text-purple-800\"></i>\n",
       "<p class=\"email col-span-8\">kellyjones@yahoo.com</p>\n",
       "<i class=\"bi bi-telephone-fill text-purple-800\"></i>\n",
       "<p class=\"phone col-span-8\">132.680.2766</p>\n",
       "</div>\n",
       "<div class=\"address grid grid-cols-9\">\n",
       "<i class=\"bi bi-geo-fill text-purple-800\"></i>\n",
       "<p class=\"col-span-8\">\n",
       "                5620 Crystal Summit <br/>\n",
       "                North Zacharyfort, VA 18645\n",
       "            </p>\n",
       "</div>\n",
       "</div>"
      ]
     },
     "execution_count": 17,
     "metadata": {},
     "output_type": "execute_result"
    }
   ],
   "source": [
    "person"
   ]
  },
  {
   "cell_type": "code",
   "execution_count": 19,
   "id": "2bbf5663",
   "metadata": {},
   "outputs": [
    {
     "data": {
      "text/plain": [
       "'Michelle Dixon'"
      ]
     },
     "execution_count": 19,
     "metadata": {},
     "output_type": "execute_result"
    }
   ],
   "source": [
    "person_name = person.find('h2').text\n",
    "person_name"
   ]
  },
  {
   "cell_type": "code",
   "execution_count": 21,
   "id": "aaafc803",
   "metadata": {},
   "outputs": [
    {
     "data": {
      "text/plain": [
       "'\\n            \"Pre-emptive dedicated pricing structure\"\\n        '"
      ]
     },
     "execution_count": 21,
     "metadata": {},
     "output_type": "execute_result"
    }
   ],
   "source": [
    "person_quote = person.find('p').text\n",
    "person_quote"
   ]
  },
  {
   "cell_type": "code",
   "execution_count": 22,
   "id": "ea7e9583",
   "metadata": {},
   "outputs": [
    {
     "data": {
      "text/plain": [
       "'kellyjones@yahoo.com'"
      ]
     },
     "execution_count": 22,
     "metadata": {},
     "output_type": "execute_result"
    }
   ],
   "source": [
    "person_email = person.find(class_ = 'email').text\n",
    "person_email"
   ]
  },
  {
   "cell_type": "code",
   "execution_count": 24,
   "id": "7eec4e3d",
   "metadata": {},
   "outputs": [
    {
     "data": {
      "text/plain": [
       "'132.680.2766'"
      ]
     },
     "execution_count": 24,
     "metadata": {},
     "output_type": "execute_result"
    }
   ],
   "source": [
    "person_phone = person.find(class_ = 'phone').text\n",
    "person_phone"
   ]
  },
  {
   "cell_type": "code",
   "execution_count": 26,
   "id": "08a704a3",
   "metadata": {},
   "outputs": [
    {
     "data": {
      "text/plain": [
       "'\\n                5620 Crystal Summit \\n                North Zacharyfort, VA 18645\\n            '"
      ]
     },
     "execution_count": 26,
     "metadata": {},
     "output_type": "execute_result"
    }
   ],
   "source": [
    "person_address = person.find_all('p')[-1].text\n",
    "person_address"
   ]
  },
  {
   "cell_type": "code",
   "execution_count": 35,
   "id": "35d66222",
   "metadata": {},
   "outputs": [],
   "source": [
    "#Now create a function to do this for all people on the page\n",
    "# And add their info to a dictionary \n",
    "# Then turn the dict into a df\n",
    "def get_people_data():\n",
    "    url = 'https://web-scraping-demo.zgulde.net/people'\n",
    "    response = get(url)\n",
    "    \n",
    "    soup = BeautifulSoup(response.content, 'html.parser')\n",
    "    \n",
    "    people = soup.find_all('div', class_ = 'person')\n",
    "    \n",
    "    #Create empty list\n",
    "    people_info = []\n",
    "    \n",
    "    for person in people:\n",
    "        person_info = {\n",
    "            'name': person.find('h2').text,\n",
    "            'quote': person.find('p').text.strip(),\n",
    "            'email': person.find(class_ = 'email').text,\n",
    "            'phone': person.find(class_ = 'phone').text,\n",
    "            'address': person.find_all('p')[-1].text.strip()\n",
    "        }\n",
    "        \n",
    "        people_info.append(person_info)\n",
    "        \n",
    "    #Convert to dataframe\n",
    "    people_info = pd.DataFrame(people_info)\n",
    "    \n",
    "    return people_info"
   ]
  },
  {
   "cell_type": "code",
   "execution_count": 36,
   "id": "3ab179d8",
   "metadata": {},
   "outputs": [],
   "source": [
    "people_info = get_people_data()"
   ]
  },
  {
   "cell_type": "code",
   "execution_count": 37,
   "id": "c6fe8245",
   "metadata": {},
   "outputs": [
    {
     "data": {
      "text/html": [
       "<div>\n",
       "<style scoped>\n",
       "    .dataframe tbody tr th:only-of-type {\n",
       "        vertical-align: middle;\n",
       "    }\n",
       "\n",
       "    .dataframe tbody tr th {\n",
       "        vertical-align: top;\n",
       "    }\n",
       "\n",
       "    .dataframe thead th {\n",
       "        text-align: right;\n",
       "    }\n",
       "</style>\n",
       "<table border=\"1\" class=\"dataframe\">\n",
       "  <thead>\n",
       "    <tr style=\"text-align: right;\">\n",
       "      <th></th>\n",
       "      <th>name</th>\n",
       "      <th>quote</th>\n",
       "      <th>email</th>\n",
       "      <th>phone</th>\n",
       "      <th>address</th>\n",
       "    </tr>\n",
       "  </thead>\n",
       "  <tbody>\n",
       "    <tr>\n",
       "      <th>0</th>\n",
       "      <td>Shelley Pierce</td>\n",
       "      <td>\"Face-to-face interactive core\"</td>\n",
       "      <td>bgreen@hotmail.com</td>\n",
       "      <td>+1-744-255-8135x35943</td>\n",
       "      <td>47236 Pamela Expressway Apt. 843 \\n           ...</td>\n",
       "    </tr>\n",
       "    <tr>\n",
       "      <th>1</th>\n",
       "      <td>Christopher Page</td>\n",
       "      <td>\"Vision-oriented motivating utilization\"</td>\n",
       "      <td>angiegutierrez@yahoo.com</td>\n",
       "      <td>9829991948</td>\n",
       "      <td>07152 Chelsea Forks Apt. 768 \\n               ...</td>\n",
       "    </tr>\n",
       "    <tr>\n",
       "      <th>2</th>\n",
       "      <td>Deborah Perez</td>\n",
       "      <td>\"Business-focused reciprocal array\"</td>\n",
       "      <td>ashlee09@gmail.com</td>\n",
       "      <td>1932027806</td>\n",
       "      <td>3434 Benson Pass \\n                Howardville...</td>\n",
       "    </tr>\n",
       "    <tr>\n",
       "      <th>3</th>\n",
       "      <td>Frank Mills</td>\n",
       "      <td>\"Compatible logistical contingency\"</td>\n",
       "      <td>davidmitchell@griffith.org</td>\n",
       "      <td>+1-079-469-4982x8363</td>\n",
       "      <td>300 White Canyon Apt. 096 \\n                No...</td>\n",
       "    </tr>\n",
       "    <tr>\n",
       "      <th>4</th>\n",
       "      <td>Bradley Lopez</td>\n",
       "      <td>\"Customizable even-keeled attitude\"</td>\n",
       "      <td>haley51@moody.com</td>\n",
       "      <td>(705)659-8671</td>\n",
       "      <td>47007 Anthony Stravenue Apt. 154 \\n           ...</td>\n",
       "    </tr>\n",
       "    <tr>\n",
       "      <th>5</th>\n",
       "      <td>Mark Steele</td>\n",
       "      <td>\"Assimilated zero tolerance knowledge user\"</td>\n",
       "      <td>fergusonwesley@hotmail.com</td>\n",
       "      <td>209.015.5577</td>\n",
       "      <td>741 April Groves \\n                Kristenberg...</td>\n",
       "    </tr>\n",
       "    <tr>\n",
       "      <th>6</th>\n",
       "      <td>Cassandra Smith</td>\n",
       "      <td>\"Multi-channeled dynamic superstructure\"</td>\n",
       "      <td>stephaniethomas@hayes-johnson.biz</td>\n",
       "      <td>001-670-942-7926</td>\n",
       "      <td>737 Murray Centers \\n                Zacharyto...</td>\n",
       "    </tr>\n",
       "    <tr>\n",
       "      <th>7</th>\n",
       "      <td>Thomas Wise</td>\n",
       "      <td>\"Up-sized asymmetric initiative\"</td>\n",
       "      <td>gregorygallegos@taylor-rogers.com</td>\n",
       "      <td>(884)012-1922x4003</td>\n",
       "      <td>0336 House Junction Apt. 818 \\n               ...</td>\n",
       "    </tr>\n",
       "    <tr>\n",
       "      <th>8</th>\n",
       "      <td>Dr. Shelby Hoover PhD</td>\n",
       "      <td>\"Secured well-modulated solution\"</td>\n",
       "      <td>ajohnston@barry.com</td>\n",
       "      <td>001-897-501-3958x192</td>\n",
       "      <td>031 Sanchez Lake \\n                East Sharon...</td>\n",
       "    </tr>\n",
       "    <tr>\n",
       "      <th>9</th>\n",
       "      <td>Laurie Ball</td>\n",
       "      <td>\"Front-line modular framework\"</td>\n",
       "      <td>rmiller@robinson-mitchell.net</td>\n",
       "      <td>578-703-1162</td>\n",
       "      <td>53927 Jason Heights Suite 605 \\n              ...</td>\n",
       "    </tr>\n",
       "  </tbody>\n",
       "</table>\n",
       "</div>"
      ],
      "text/plain": [
       "                    name                                        quote  \\\n",
       "0         Shelley Pierce              \"Face-to-face interactive core\"   \n",
       "1       Christopher Page     \"Vision-oriented motivating utilization\"   \n",
       "2          Deborah Perez          \"Business-focused reciprocal array\"   \n",
       "3            Frank Mills          \"Compatible logistical contingency\"   \n",
       "4          Bradley Lopez          \"Customizable even-keeled attitude\"   \n",
       "5            Mark Steele  \"Assimilated zero tolerance knowledge user\"   \n",
       "6        Cassandra Smith     \"Multi-channeled dynamic superstructure\"   \n",
       "7            Thomas Wise             \"Up-sized asymmetric initiative\"   \n",
       "8  Dr. Shelby Hoover PhD            \"Secured well-modulated solution\"   \n",
       "9            Laurie Ball               \"Front-line modular framework\"   \n",
       "\n",
       "                               email                  phone  \\\n",
       "0                 bgreen@hotmail.com  +1-744-255-8135x35943   \n",
       "1           angiegutierrez@yahoo.com             9829991948   \n",
       "2                 ashlee09@gmail.com             1932027806   \n",
       "3         davidmitchell@griffith.org   +1-079-469-4982x8363   \n",
       "4                  haley51@moody.com          (705)659-8671   \n",
       "5         fergusonwesley@hotmail.com           209.015.5577   \n",
       "6  stephaniethomas@hayes-johnson.biz       001-670-942-7926   \n",
       "7  gregorygallegos@taylor-rogers.com     (884)012-1922x4003   \n",
       "8                ajohnston@barry.com   001-897-501-3958x192   \n",
       "9      rmiller@robinson-mitchell.net           578-703-1162   \n",
       "\n",
       "                                             address  \n",
       "0  47236 Pamela Expressway Apt. 843 \\n           ...  \n",
       "1  07152 Chelsea Forks Apt. 768 \\n               ...  \n",
       "2  3434 Benson Pass \\n                Howardville...  \n",
       "3  300 White Canyon Apt. 096 \\n                No...  \n",
       "4  47007 Anthony Stravenue Apt. 154 \\n           ...  \n",
       "5  741 April Groves \\n                Kristenberg...  \n",
       "6  737 Murray Centers \\n                Zacharyto...  \n",
       "7  0336 House Junction Apt. 818 \\n               ...  \n",
       "8  031 Sanchez Lake \\n                East Sharon...  \n",
       "9  53927 Jason Heights Suite 605 \\n              ...  "
      ]
     },
     "execution_count": 37,
     "metadata": {},
     "output_type": "execute_result"
    }
   ],
   "source": [
    "people_info"
   ]
  },
  {
   "cell_type": "code",
   "execution_count": null,
   "id": "ae2487ac",
   "metadata": {},
   "outputs": [],
   "source": []
  }
 ],
 "metadata": {
  "kernelspec": {
   "display_name": "Python 3",
   "language": "python",
   "name": "python3"
  },
  "language_info": {
   "codemirror_mode": {
    "name": "ipython",
    "version": 3
   },
   "file_extension": ".py",
   "mimetype": "text/x-python",
   "name": "python",
   "nbconvert_exporter": "python",
   "pygments_lexer": "ipython3",
   "version": "3.9.1"
  }
 },
 "nbformat": 4,
 "nbformat_minor": 5
}
