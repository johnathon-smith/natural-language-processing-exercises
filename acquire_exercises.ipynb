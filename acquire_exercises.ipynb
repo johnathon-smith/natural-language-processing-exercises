{
 "cells": [
  {
   "cell_type": "markdown",
   "id": "e4b9c793",
   "metadata": {},
   "source": [
    "# Acquire Exercises"
   ]
  },
  {
   "cell_type": "markdown",
   "id": "efbc1312",
   "metadata": {},
   "source": [
    "__1) Codeup Blog Articles__\n",
    "\n",
    "Scrape the article text from the following pages:\n",
    "\n",
    "* https://codeup.com/data-science/codeups-data-science-career-accelerator-is-here/\n",
    "* https://codeup.com/data-science/data-science-myths/\n",
    "* https://codeup.com/data-science/data-science-vs-data-analytics-whats-the-difference/\n",
    "* https://codeup.com/data-science/10-tips-to-crush-it-at-the-sa-tech-job-fair/\n",
    "* https://codeup.com/data-science/competitor-bootcamps-are-closing-is-the-model-in-danger/\n",
    "\n",
    "Encapsulate your work in a function named get_blog_articles that will return a list of dictionaries, with each dictionary representing one article. The shape of each dictionary should look like this:\n",
    "\n",
    "{\n",
    "\n",
    "    'title': 'the title of the article',\n",
    "    \n",
    "    'content': 'the full text content of the article'\n",
    "}\n",
    "\n",
    "Plus any additional properties you think might be helpful.\n",
    "\n",
    "__Bonus:__\n",
    "\n",
    "Scrape the text of all the articles linked on codeup's blog page."
   ]
  },
  {
   "cell_type": "code",
   "execution_count": 1,
   "id": "1d604f35",
   "metadata": {},
   "outputs": [],
   "source": [
    "import numpy as np\n",
    "import pandas as pd\n",
    "from requests import get\n",
    "from bs4 import BeautifulSoup"
   ]
  },
  {
   "cell_type": "code",
   "execution_count": 12,
   "id": "54e70220",
   "metadata": {},
   "outputs": [],
   "source": [
    "#For the first article\n",
    "url = 'https://codeup.com/data-science/codeups-data-science-career-accelerator-is-here/'"
   ]
  },
  {
   "cell_type": "code",
   "execution_count": 14,
   "id": "2003c878",
   "metadata": {},
   "outputs": [],
   "source": [
    "response = get(url, headers={'user-agent': 'Codeup DS Germain'})"
   ]
  },
  {
   "cell_type": "code",
   "execution_count": 17,
   "id": "fee5fb7c",
   "metadata": {},
   "outputs": [
    {
     "data": {
      "text/plain": [
       "<Response [200]>"
      ]
     },
     "execution_count": 17,
     "metadata": {},
     "output_type": "execute_result"
    }
   ],
   "source": [
    "response"
   ]
  },
  {
   "cell_type": "code",
   "execution_count": 18,
   "id": "0e131831",
   "metadata": {},
   "outputs": [],
   "source": [
    "soup = BeautifulSoup(response.content, 'html.parser')"
   ]
  },
  {
   "cell_type": "code",
   "execution_count": 24,
   "id": "dcbae8fc",
   "metadata": {},
   "outputs": [
    {
     "data": {
      "text/plain": [
       "'Codeup’s Data Science Career Accelerator is Here!'"
      ]
     },
     "execution_count": 24,
     "metadata": {},
     "output_type": "execute_result"
    }
   ],
   "source": [
    "#Find the title of the article\n",
    "title = soup.find('h1', class_ = 'entry-title').text\n",
    "title"
   ]
  },
  {
   "cell_type": "code",
   "execution_count": 30,
   "id": "4efdd6a3",
   "metadata": {},
   "outputs": [
    {
     "data": {
      "text/plain": [
       "'The rumors are true! The time has arrived. Codeup has officially opened applications to our new Data Science career accelerator, with only 25 seats available! This immersive program is one of a kind in San Antonio, and will help you land a job in Glassdoor’s #1 Best Job in America. Data Science is a method of providing actionable intelligence from data. The data revolution has hit San Antonio, resulting in an explosion in Data Scientist positions across companies like USAA, Accenture, Booz Allen Hamilton, and HEB. We’ve even seen UTSA invest $70 M for a Cybersecurity Center and School of Data Science. We built a program to specifically meet the growing demands of this industry. Our program will be 18 weeks long, full-time, hands-on, and project-based. Our curriculum development and instruction is led by Senior Data Scientist, Maggie Giust, who has worked at HEB, Capital Group, and Rackspace, along with input from dozens of practitioners and hiring partners. Students will work with real data sets, realistic problems, and the entire data science pipeline from collection to deployment. They will receive professional development training in resume writing, interviewing, and continuing education to prepare for a smooth transition to the workforce. We focus on applied data science for immediate impact and ROI in a business, which is how we can back it all up with a 6 month tuition refund guarantee – just like our existing Web Dev program. We’re focusing on Data Science with Python, SQL, and ML, covered in 14 modules: 1) Fundamentals; 2) Applied statistics; 3) SQL; 4) Python; 5) Supervised machine learning – regression; 6) Supervised machine learning – classification; 7) Unsupervised machine learning – clustering; 8) Time series analysis; 9) Anomaly detection; 10) Natural language processing; 11) Distributed machine learning; 12) Advanced topics (deep learning, NoSQL, cloud deployment, etc.); 13) Storytelling with data; and 14) Domain expertise development. Applications are now open for Codeup’s first Data Science cohort, which will start class on February 4, 2019. Hurry – there are only 25 seats available! To further our mission of cultivating inclusive growth, scholarships will be available to women, minorities, LGBTQIA+ individuals, veterans, first responders, and people relocating to San Antonio. If you want to learn about joining our program or hiring our graduates, email datascience@codeup.com!'"
      ]
     },
     "execution_count": 30,
     "metadata": {},
     "output_type": "execute_result"
    }
   ],
   "source": [
    "#Find the article content\n",
    "content = soup.find('div', class_ = 'et_pb_post_content').text.strip().replace('\\n', ' ').replace('\\xa0', ' ')\n",
    "content"
   ]
  },
  {
   "cell_type": "code",
   "execution_count": 33,
   "id": "02a4eeb7",
   "metadata": {},
   "outputs": [
    {
     "data": {
      "text/plain": [
       "'Sep 30, 2018'"
      ]
     },
     "execution_count": 33,
     "metadata": {},
     "output_type": "execute_result"
    }
   ],
   "source": [
    "#Get publication date\n",
    "date = soup.find('span', class_ = 'published').text\n",
    "date"
   ]
  },
  {
   "cell_type": "code",
   "execution_count": 35,
   "id": "e76fa83d",
   "metadata": {},
   "outputs": [
    {
     "data": {
      "text/plain": [
       "'Data Science'"
      ]
     },
     "execution_count": 35,
     "metadata": {},
     "output_type": "execute_result"
    }
   ],
   "source": [
    "#Get category\n",
    "category = soup.find('a', rel = 'category tag').text\n",
    "category"
   ]
  },
  {
   "cell_type": "code",
   "execution_count": 43,
   "id": "9535cfa2",
   "metadata": {},
   "outputs": [],
   "source": [
    "#Since these blog articles will have similar structure, create a function that loops through\n",
    "#Each url and grabs the appropriate info\n",
    "def get_blog_articles(urls):\n",
    "    \"\"\"\n",
    "    This function takes in a list of urls for Codeup blog articles. It will loop through each\n",
    "    of them, gather the article title and content, put it into a dictionary, and finally\n",
    "    return the list of dictionaries.\n",
    "    \"\"\"\n",
    "    \n",
    "    #Create the empty list to append the article dicts to\n",
    "    articles = []\n",
    "    \n",
    "    for url in urls:\n",
    "        response = get(url, headers = {'user-agent':'Codeup DS Germain'})\n",
    "        \n",
    "        soup = BeautifulSoup(response.content, 'html.parser')\n",
    "        \n",
    "        article = {\n",
    "            'title': soup.find('h1', class_ = 'entry-title').text,\n",
    "            'date': soup.find('span', class_ = 'published').text,\n",
    "            'category': soup.find('a', rel = 'category tag').text,\n",
    "            'content': soup.find('div', class_ = 'et_pb_post_content').text.strip().replace('\\n', ' ').replace('\\xa0', ' ')\n",
    "        }\n",
    "        \n",
    "        articles.append(article)\n",
    "        \n",
    "    #Convert the list to dataframe\n",
    "    #articles = pd.DataFrame(articles)\n",
    "    \n",
    "    return articles"
   ]
  },
  {
   "cell_type": "code",
   "execution_count": 40,
   "id": "cf92de51",
   "metadata": {},
   "outputs": [],
   "source": [
    "#Create the list of urls\n",
    "urls = ['https://codeup.com/data-science/codeups-data-science-career-accelerator-is-here/',\n",
    "        'https://codeup.com/data-science/data-science-myths/',\n",
    "        'https://codeup.com/data-science/data-science-vs-data-analytics-whats-the-difference/',\n",
    "        'https://codeup.com/data-science/10-tips-to-crush-it-at-the-sa-tech-job-fair/',\n",
    "        'https://codeup.com/data-science/competitor-bootcamps-are-closing-is-the-model-in-danger/'\n",
    "       ]"
   ]
  },
  {
   "cell_type": "code",
   "execution_count": 44,
   "id": "2b365098",
   "metadata": {},
   "outputs": [],
   "source": [
    "#Get article data\n",
    "articles = get_blog_articles(urls)"
   ]
  },
  {
   "cell_type": "code",
   "execution_count": 45,
   "id": "81a49cf0",
   "metadata": {},
   "outputs": [
    {
     "data": {
      "text/plain": [
       "[{'title': 'Codeup’s Data Science Career Accelerator is Here!',\n",
       "  'date': 'Sep 30, 2018',\n",
       "  'category': 'Data Science',\n",
       "  'content': 'The rumors are true! The time has arrived. Codeup has officially opened applications to our new Data Science career accelerator, with only 25 seats available! This immersive program is one of a kind in San Antonio, and will help you land a job in Glassdoor’s #1 Best Job in America. Data Science is a method of providing actionable intelligence from data. The data revolution has hit San Antonio, resulting in an explosion in Data Scientist positions across companies like USAA, Accenture, Booz Allen Hamilton, and HEB. We’ve even seen UTSA invest $70 M for a Cybersecurity Center and School of Data Science. We built a program to specifically meet the growing demands of this industry. Our program will be 18 weeks long, full-time, hands-on, and project-based. Our curriculum development and instruction is led by Senior Data Scientist, Maggie Giust, who has worked at HEB, Capital Group, and Rackspace, along with input from dozens of practitioners and hiring partners. Students will work with real data sets, realistic problems, and the entire data science pipeline from collection to deployment. They will receive professional development training in resume writing, interviewing, and continuing education to prepare for a smooth transition to the workforce. We focus on applied data science for immediate impact and ROI in a business, which is how we can back it all up with a 6 month tuition refund guarantee – just like our existing Web Dev program. We’re focusing on Data Science with Python, SQL, and ML, covered in 14 modules: 1) Fundamentals; 2) Applied statistics; 3) SQL; 4) Python; 5) Supervised machine learning – regression; 6) Supervised machine learning – classification; 7) Unsupervised machine learning – clustering; 8) Time series analysis; 9) Anomaly detection; 10) Natural language processing; 11) Distributed machine learning; 12) Advanced topics (deep learning, NoSQL, cloud deployment, etc.); 13) Storytelling with data; and 14) Domain expertise development. Applications are now open for Codeup’s first Data Science cohort, which will start class on February 4, 2019. Hurry – there are only 25 seats available! To further our mission of cultivating inclusive growth, scholarships will be available to women, minorities, LGBTQIA+ individuals, veterans, first responders, and people relocating to San Antonio. If you want to learn about joining our program or hiring our graduates, email datascience@codeup.com!'},\n",
       " {'title': 'Data Science Myths',\n",
       "  'date': 'Oct 31, 2018',\n",
       "  'category': 'Data Science',\n",
       "  'content': 'By Dimitri Antoniou and Maggie Giust Data Science, Big Data, Machine Learning, NLP, Neural Networks…these buzzwords have rapidly spread into mainstream use over the last few years. Unfortunately, definitions are varied and sources of truth are limited. Data Scientists are in fact not magical unicorn wizards who can snap their fingers and turn a business around! Today, we’ll take a cue from our favorite Mythbusters to tackle some common myths and misconceptions in the field of Data Science.   Myth #1: Data Science = Statistics At first glance, this one doesn’t sound unreasonable. Statistics is defined as, “A branch of mathematics dealing with the collection, analysis, interpretation, and presentation of masses of numerical data.” That sounds a lot like our definition of Data Science: a method of drawing actionable intelligence from data.  In truth, statistics is actually one small piece of Data Science. As our Senior Data Scientist puts it, “Statistics forces us to make assumptions about the nature of the relationship between variables, the distribution of the data, etc.” In the traditional Data Science venn diagram, you’ll see that math/stats make up ⅓ of a working professional. These are tools and skills to leverage, but data science itself is about drawing intelligence from data. BUSTED  via GIPHY   Myth #2: Data Scientist = Business/Data Analyst This one is so common that we wrote a whole post about it! These are separate and different roles within the data field. While a data scientist will often do analytics, their spectrum of work is wider. A data analyst will use structured data to create dashboards and KPIs, while a Data Scientist deals with unstructured and messy data for a range of outputs. If they’re interested, business analysts will often progress to data scientists. BUSTED  via GIPHY   Myth #3: Data Science = Data Science This one’s tricky, because it’s impossible to either confirm or bust! The ‘myth’ is that one person or company using the term Data Science is not necessarily the same as another person or company using the same term. Depending on organizational capacity, individual experience, educational background, and many other variables, we might be using the same name for different animals. Tl;dr: don’t assume a common understanding across hiring managers, recruiters, and practitioners. Look instead for specifics of tools, techniques, methodologies, and outputs. That being said, this one falls in the “plausible” category, because it may actually be true in some circumstances, while false in others. PLAUSIBLE  via GIPHY   Myth #4: Data Science curricula are well-defined and consistent. We recommend checking this one out for yourself! A quick google search for bootcamps, master’s degree programs, and online courses will reveal that different organizations teach different things. There is no commonly accepted framework for teaching data science! Some focus more on the engineering, others focus more on machine learning, some think deep learning is foundational, and some prefer to use R.  Our curriculum was built through employer interviews, practitioner interviews, market research, and company partnerships. But we’re based in Texas! A bootcamp in New York might follow the same process and end up with a different syllabus. Keep in mind, whatever your learning path, that there will be gaps in your learning. The most important thing is to recognize those gaps. BUSTED  via GIPHY   Myth #5: If I want to be a data scientist, I just need to learn Python or R. This one is common and dangerous! Just like statistics, programming languages like Python and R are tools. They’re just pieces of a larger puzzle! Knowing Python without understanding the data science pipeline is like knowing how to build a floor without having a floor plan. Of course, these are valuable technical skills that give you a leg up, but they’re second in importance to asking the right questions, knowing what tools to use when, and communicating your findings. BUSTED  via GIPHY Still have questions? Reach out to us! We’re always here to help.'},\n",
       " {'title': 'Data Science VS Data Analytics: What’s The Difference?',\n",
       "  'date': 'Oct 17, 2018',\n",
       "  'category': 'Data Science',\n",
       "  'content': 'By Dimitri Antoniou A week ago, Codeup launched our immersive Data Science career accelerator! With our first-class kicking off in February and only 25 seats available, we’ve been answering a lot of questions from prospective students. One, in particular, has come up so many times we decided to dedicate a blog post to it. What is the difference between data science and data analytics? First, let’s define some of our terms! Take a look at this blog to understand what Data Science is. In short, it is a method of turning raw data into action, leading to the desired outcome. Big Data refers to data sets that are large and complex, usually exceeding the capacity of computers and normal processing power to deal with. Machine Learning is the process of ‘learning’ underlying patterns of data in order to automate the extraction of intelligence from that data.     Now, let’s look at the data pipeline that data scientists work through to reach the actionable insights and outcomes we mentioned:  We start by collecting data, which may come from social media channels, network logs, financials, employee records, or more. We then process that data into usable information stored in databases or streamed. Next, we look back on the history of that data to summarize, describe, and explain, turning the data into meaningful knowledge. Here we’re primarily using mathematics, statistics, and visualization methods. Now we convert that knowledge into intelligence, seeking to predict future events so that we can make decisions in the present. This is where practitioners will introduce mathematical/statistical modeling through machine learning to their data. Finally, we enable action by building automations, running tests, building visualizations, monitoring new data, etc.  Data professionals work at different stages of the spectrum to move data through the pipeline. On the left, Big Data Engineers specialize in collecting, storing, and processing data, getting it from Data to Information. In the middle, analysts work to understand and convert that information to knowledge. Lastly, a Machine Learning Engineer utilizes machine learning algorithms to turn intelligence into action by building automations, visualizations, recommendations, and predictions. Data Scientists span multiple stages of this pipeline, from information to action. They will spend about 70% of their time wrangling data in the information stage. They will conduct a statistical analysis to derive knowledge. Lastly, they predict future events and build automations using machine learning. For those technical folk out there, data science is to data engineering or machine learning engineering as full-stack development is to front-end or back-end development. For the non-technical folk, data science is the umbrella term that houses data analytics, machine learning, and other data professions. So what’s the biggest difference between a data analyst and a data scientist? Data scientists utilize computer programming and machine learning in addition to mathematics and statistics.  Still have questions? Reach out to us. Wondering which of Codeup’s programs is right for you? We’ve got you covered. And of course, if data science gets you excited, get started with us today!'},\n",
       " {'title': '10 Tips to Crush It at the SA Tech Job Fair',\n",
       "  'date': 'Aug 14, 2018',\n",
       "  'category': 'Tips for Prospective Students',\n",
       "  'content': 'SA Tech Job Fair The third bi-annual San Antonio Tech Job Fair is just around the corner. Over 25 companies will be at The Jack Guenther Pavilion on April 10th, and they are hungry for new tech team members! At the job fair, companies want to quickly source a list of new talent leads. AKA they need to find qualified employees they can begin interviewing for jobs. Recruiters will represent their organization at tables with informational handouts and company swag. Your goal at a job fair is to set yourself apart from other candidates and ensure your name makes it to the top of those lead lists. Think of your interaction with the company as a mini screening interview. The company rep will subtly evaluate basic qualities like your professionalism, communication and interpersonal skills, work experience, and interest level in the organization. Job fairs are also an opportunity for you to gain information about companies that may not be easily accessible online.   At Codeup, we’re passionate about bridging the gap between talent and demand, so we’ve outlined 10 tips to ensure you bring your A-game and leave a lasting impression! 10 Tips for Totally Crushing it at the SA Tech Job Fair  Use keywords to describe your skills, but don’t go overboard. You’ll probably be talking to a recruiter or talent acquisition specialist. As a technical candidate, recognize these individuals usually aren’t developers or network administrators. They know terms like “JavaScript” and “Apache,” but haven’t written a line of code or spun up a server, so don’t get too caught up in industry jargon. Research the companies ahead of time. Review the list of attending companies and make sure you know what the company does and whether or not they hire people in your desired role. Look up recent news on the company and mention it during your conversation. Define your own goals for the job fair. Are you searching for a specific type of role or company culture? What matters most in your job search? Are there companies you want to prioritize?  Develop a game plan and be intentional with your time. Prepare a stellar résumé. Bring about 20 copies of your résumé to the event, printed on nice paper. We won’t cover resume writing in this post, but there are a plethora of online resources you can consult. For job fairs, don’t worry about cover letters. Polish your online profiles. If recruiters have a copy of your resume, you can be sure they will stalk you online soon. Make sure your online presence is professional and appropriate. A good place to start is by Googling yourself. Update your LinkedIn, and clean up any social media profiles. Craft a 30-60 second elevator pitch. You may only have a few minutes with an employer. What will you say if they ask, “Tell me about yourself?” Consider structuring your pitch like this: Who you are + What you do + What your goals are + Why that matters to the company. Don’t show up in a t-shirt, but trade in your suit for something more chill. Always keep it professional, but remember: tech is typically more casual than other industries. You’ll likely feel out of place if you look like you belong on Wall St., so refer to this guide on dressing for tech interviews. Don’t forget the basics. Start and end each conversation with a firm handshake. Make eye contact while conversing. Smile! Thank the recruiter before you move on to the next table. Ask educated questions. Don’t waste valuable face time with recruiters by asking questions like, “What does [Insert Company here] do?” They hate that question! Instead, try some of these:  What are the top 3-5 examples of knowledge, skills, and abilities you look for in candidates? What’s the best advice you have for someone who wants to work here? What is your interview process like? Are you hiring for any roles not currently listed on your websites?   Follow up. Collect business cards from each table. The next day, send a short note expressing your interest in the company’s opportunities and thanking the recruiter for his or her time.  RSVP for the SA Tech Job Fair taking place at the Jack Guenther Pavilion – September 18th starting at 4 pm.'},\n",
       " {'title': 'Competitor Bootcamps Are Closing. Is the Model in Danger?',\n",
       "  'date': 'Aug 14, 2018',\n",
       "  'category': 'Codeup News',\n",
       "  'content': 'Competitor Bootcamps Are Closing. Is the Model in Danger?    Is the programming bootcamp model in danger? In recent news, DevBootcamp and The Iron Yard announced that they are closing their doors. This is big news. DevBootcamp was the first programming bootcamp model and The Iron Yard is a national player with 15 campuses across the U.S. In both cases, the companies cited an unsustainable business model. Does that mean the boot-camp model is dead?  tl;dr “Nope!” Bootcamps exist because traditional education models have failed to provide students job-ready skills for the 21st century. Students demand better employment options from their education. Employers demand skilled and job ready candidates. Big Education’s failure to meet those needs through traditional methods created the fertile ground for the new business model of the programming bootcamp. Education giant Kaplan and Apollo Education Group (owner of University of Phoenix) bought their way into this new educational model when they purchased The Iron Yard and DevBootcamp. They purchased their competition with the intent to scale up the model. Unfortunately, Big Education is too habituated to coming up short for students. They bought the upstarts that challenged them, tried making changes to run those bootcamps in the “Big Education” way, and, sadly, they’ve closed the doors when they realized that scaling education is more challenging when student outcomes truly matter. The bootcamp model is still new and there will be plenty consolidation, competition, and changes in the future. This model is based on actually being adaptive, innovative, and sustainable. And there’s always room for innovation.   What we’ve learned at Codeup…   Education is challenging to scale. Prioritizing quality over growth pays off.  What we’re doing at Codeup…  Higher standards in our application process are leading to better student outcomes. Our reputation and commitment to quality is opening new doors to previously uninterested/unreachable employers. In the beginning, the majority of Codeup graduates went to work with startups and small businesses. We’re now seeing a larger amount of our graduates place at medium to large sized businesses. Demand is growing and employers are learning that the results are in the graduates. Codeup’s model is sustainable, inclusive, and works.  Call or contact us today to see how Codeup’s commitment to quality and approach to being a career accelerator can make a profound difference in your life.'}]"
      ]
     },
     "execution_count": 45,
     "metadata": {},
     "output_type": "execute_result"
    }
   ],
   "source": [
    "articles"
   ]
  },
  {
   "cell_type": "markdown",
   "id": "ed6ffb19",
   "metadata": {},
   "source": [
    "__2) News Articles__\n",
    "\n",
    "We will now be scraping text data from inshorts, a website that provides a brief overview of many different topics.\n",
    "\n",
    "Write a function that scrapes the news articles for the following topics:\n",
    "\n",
    "* Business\n",
    "* Sports\n",
    "* Technology\n",
    "* Entertainment\n",
    "\n",
    "The end product of this should be a function named get_news_articles that returns a list of dictionaries, where each dictionary has this shape:\n",
    "\n",
    "{\n",
    "\n",
    "    'title': 'The article title',\n",
    "    \n",
    "    'content': 'The article content',\n",
    "    \n",
    "    'category': 'business' # for example\n",
    "    \n",
    "}"
   ]
  },
  {
   "cell_type": "markdown",
   "id": "5fb2d333",
   "metadata": {},
   "source": [
    "It seems like the articles themselves do not contain a label for the category they belong in. So, I will have to use the specific links provided by the website for each category."
   ]
  },
  {
   "cell_type": "code",
   "execution_count": 46,
   "id": "897dedd1",
   "metadata": {},
   "outputs": [],
   "source": [
    "#Create a list of category urls\n",
    "urls = ['https://inshorts.com/en/read/business',\n",
    "       'https://inshorts.com/en/read/sports',\n",
    "       'https://inshorts.com/en/read/technology',\n",
    "       'https://inshorts.com/en/read/entertainment'\n",
    "       ]"
   ]
  },
  {
   "cell_type": "code",
   "execution_count": 47,
   "id": "46d02851",
   "metadata": {},
   "outputs": [],
   "source": [
    "#Gather the information for a single article from a single category\n",
    "url = 'https://inshorts.com/en/read/entertainment'"
   ]
  },
  {
   "cell_type": "code",
   "execution_count": 86,
   "id": "30c295f9",
   "metadata": {},
   "outputs": [],
   "source": [
    "response = get(url, headers = {'user-agent': 'Codeup DS Germain'})"
   ]
  },
  {
   "cell_type": "code",
   "execution_count": 87,
   "id": "42f082e5",
   "metadata": {},
   "outputs": [
    {
     "data": {
      "text/plain": [
       "<Response [200]>"
      ]
     },
     "execution_count": 87,
     "metadata": {},
     "output_type": "execute_result"
    }
   ],
   "source": [
    "response"
   ]
  },
  {
   "cell_type": "code",
   "execution_count": 88,
   "id": "7f385e56",
   "metadata": {},
   "outputs": [],
   "source": [
    "soup = BeautifulSoup(response.content, 'html.parser')"
   ]
  },
  {
   "cell_type": "code",
   "execution_count": 89,
   "id": "b5f941fa",
   "metadata": {},
   "outputs": [],
   "source": [
    "#Find the title of the first article on the page\n",
    "news_stack = soup.find('div', class_ = 'card-stack')"
   ]
  },
  {
   "cell_type": "code",
   "execution_count": 90,
   "id": "ac1aa5d4",
   "metadata": {},
   "outputs": [],
   "source": [
    "articles = news_stack.find_all('div', class_ = 'news-card')"
   ]
  },
  {
   "cell_type": "code",
   "execution_count": 91,
   "id": "e10b023e",
   "metadata": {},
   "outputs": [],
   "source": [
    "article = articles[0]"
   ]
  },
  {
   "cell_type": "code",
   "execution_count": 92,
   "id": "94e2cefa",
   "metadata": {},
   "outputs": [
    {
     "data": {
      "text/plain": [
       "'Aishwaryaa shares pic of father Rajinikanth, husband Dhanush with National Awards medals'"
      ]
     },
     "execution_count": 92,
     "metadata": {},
     "output_type": "execute_result"
    }
   ],
   "source": [
    "#Find the title of the first article on the page\n",
    "title = article.find('span', itemprop = 'headline').text\n",
    "title"
   ]
  },
  {
   "cell_type": "code",
   "execution_count": 93,
   "id": "566e5e3a",
   "metadata": {},
   "outputs": [
    {
     "data": {
      "text/plain": [
       "'Daisy Mowke'"
      ]
     },
     "execution_count": 93,
     "metadata": {},
     "output_type": "execute_result"
    }
   ],
   "source": [
    "#Find the author of the first article\n",
    "author = article.find('span', class_ = 'author').text\n",
    "author"
   ]
  },
  {
   "cell_type": "code",
   "execution_count": 99,
   "id": "bd201f5f",
   "metadata": {},
   "outputs": [
    {
     "data": {
      "text/plain": [
       "'26 Oct 2021'"
      ]
     },
     "execution_count": 99,
     "metadata": {},
     "output_type": "execute_result"
    }
   ],
   "source": [
    "#Find the publication date\n",
    "date = article.find('span', clas = 'date').text.split(',')[0]\n",
    "date"
   ]
  },
  {
   "cell_type": "code",
   "execution_count": 104,
   "id": "804765ec",
   "metadata": {},
   "outputs": [
    {
     "data": {
      "text/plain": [
       "'Following the 67th National Film Awards on Monday, Aishwaryaa R Dhanush shared a picture of her father Rajinikanth and husband Dhanush with their medals. \"They are mine...and this is history. #prouddaughter #proudwife,\" she wrote. While Dhanush received the National Film Award in Best Actor category for \\'Asuran\\', Rajinikanth was bestowed with the Dadasaheb Phalke Award. '"
      ]
     },
     "execution_count": 104,
     "metadata": {},
     "output_type": "execute_result"
    }
   ],
   "source": [
    "#Find the article content\n",
    "content = article.find('div', itemprop = 'articleBody').text\n",
    "content"
   ]
  },
  {
   "cell_type": "code",
   "execution_count": 105,
   "id": "b44c3d17",
   "metadata": {},
   "outputs": [],
   "source": [
    "#Now build a function to get the data from the entire page\n",
    "def get_page_data(category):\n",
    "    #Build the url\n",
    "    url = 'https://inshorts.com/en/read/' + category\n",
    "    \n",
    "    #Get the html\n",
    "    response = get(url, headers = {'user-agent':'Codeup DS Germain'})\n",
    "    soup = BeautifulSoup(response.content, 'html.parser')\n",
    "    \n",
    "    #Access the news_stack that contains the articles\n",
    "    news_stack = soup.find('div', class_ = 'card-stack')\n",
    "    \n",
    "    #Access the articles inside the news_stack\n",
    "    articles = news_stack.find_all('div', class_ = 'news-card')\n",
    "    \n",
    "    #Create an empty list to store the article info\n",
    "    article_info = []\n",
    "    \n",
    "    #Loop through each article and gather the info\n",
    "    for article in articles:\n",
    "        article_dict = {\n",
    "            'title': article.find('span', itemprop = 'headline').text,\n",
    "            'author': article.find('span', class_ = 'author').text,\n",
    "            'date': article.find('span', clas = 'date').text.split(',')[0],\n",
    "            'category': category,\n",
    "            'content': article.find('div', itemprop = 'articleBody').text\n",
    "        }\n",
    "        \n",
    "        article_info.append(article_dict)\n",
    "        \n",
    "    return article_info"
   ]
  },
  {
   "cell_type": "markdown",
   "id": "b98ac1a7",
   "metadata": {},
   "source": [
    "Now that I have a function to find the articles in a single page (which is a single category), I will build a function that gathers the info for each category I need."
   ]
  },
  {
   "cell_type": "code",
   "execution_count": 108,
   "id": "ed8129e1",
   "metadata": {},
   "outputs": [],
   "source": [
    "def get_news_articles(categories):\n",
    "    \"\"\"\n",
    "    This function takes in a list of categories. It will loop through the list, gather the article\n",
    "    info from each category, add it to a list of dicts, and return a list of dictionaries of all\n",
    "    articles in those categories.\n",
    "    \"\"\"\n",
    "    #First, create the empty list of article dicts\n",
    "    article_info = []\n",
    "    \n",
    "    #Loop through the list of cats\n",
    "    for cat in categories:\n",
    "        article_list = get_page_data(cat)\n",
    "        \n",
    "        #Loop through the list and append each entry individually to article_info\n",
    "        for article in article_list:\n",
    "            article_info.append(article)\n",
    "    \n",
    "    return article_info\n",
    "    "
   ]
  },
  {
   "cell_type": "code",
   "execution_count": 109,
   "id": "139b3999",
   "metadata": {},
   "outputs": [],
   "source": [
    "#Testing \n",
    "#Create list of cats\n",
    "categories = ['business', 'sports', 'technology', 'entertainment']"
   ]
  },
  {
   "cell_type": "code",
   "execution_count": 110,
   "id": "f165cf06",
   "metadata": {},
   "outputs": [],
   "source": [
    "news_articles = get_news_articles(categories)"
   ]
  },
  {
   "cell_type": "code",
   "execution_count": 111,
   "id": "b613962e",
   "metadata": {},
   "outputs": [
    {
     "data": {
      "text/plain": [
       "100"
      ]
     },
     "execution_count": 111,
     "metadata": {},
     "output_type": "execute_result"
    }
   ],
   "source": [
    "len(news_articles)"
   ]
  },
  {
   "cell_type": "code",
   "execution_count": 113,
   "id": "0c940f06",
   "metadata": {},
   "outputs": [
    {
     "data": {
      "text/html": [
       "<div>\n",
       "<style scoped>\n",
       "    .dataframe tbody tr th:only-of-type {\n",
       "        vertical-align: middle;\n",
       "    }\n",
       "\n",
       "    .dataframe tbody tr th {\n",
       "        vertical-align: top;\n",
       "    }\n",
       "\n",
       "    .dataframe thead th {\n",
       "        text-align: right;\n",
       "    }\n",
       "</style>\n",
       "<table border=\"1\" class=\"dataframe\">\n",
       "  <thead>\n",
       "    <tr style=\"text-align: right;\">\n",
       "      <th></th>\n",
       "      <th>title</th>\n",
       "      <th>author</th>\n",
       "      <th>date</th>\n",
       "      <th>category</th>\n",
       "      <th>content</th>\n",
       "    </tr>\n",
       "  </thead>\n",
       "  <tbody>\n",
       "    <tr>\n",
       "      <th>0</th>\n",
       "      <td>India's Covaxin may get WHO approval in next 2...</td>\n",
       "      <td>Kiran Khatri</td>\n",
       "      <td>26 Oct 2021</td>\n",
       "      <td>business</td>\n",
       "      <td>A WHO technical advisory group which met on Tu...</td>\n",
       "    </tr>\n",
       "    <tr>\n",
       "      <th>1</th>\n",
       "      <td>I decided to support Doge as it felt like the ...</td>\n",
       "      <td>Pragya Swastik</td>\n",
       "      <td>26 Oct 2021</td>\n",
       "      <td>business</td>\n",
       "      <td>Tesla CEO and the world's richest person Elon ...</td>\n",
       "    </tr>\n",
       "    <tr>\n",
       "      <th>2</th>\n",
       "      <td>Elon Musk tweets 'Wild $T1mes' after Tesla hit...</td>\n",
       "      <td>Pragya Swastik</td>\n",
       "      <td>26 Oct 2021</td>\n",
       "      <td>business</td>\n",
       "      <td>Tesla CEO and the world's richest person Elon ...</td>\n",
       "    </tr>\n",
       "    <tr>\n",
       "      <th>3</th>\n",
       "      <td>Which companies have $1 trillion or more marke...</td>\n",
       "      <td>Pragya Swastik</td>\n",
       "      <td>26 Oct 2021</td>\n",
       "      <td>business</td>\n",
       "      <td>Tesla has become the latest company to surpass...</td>\n",
       "    </tr>\n",
       "    <tr>\n",
       "      <th>4</th>\n",
       "      <td>How many years did it take for various compan...</td>\n",
       "      <td>Pragya Swastik</td>\n",
       "      <td>26 Oct 2021</td>\n",
       "      <td>business</td>\n",
       "      <td>Tesla took 18 years to hit the $1-trillion m-c...</td>\n",
       "    </tr>\n",
       "    <tr>\n",
       "      <th>...</th>\n",
       "      <td>...</td>\n",
       "      <td>...</td>\n",
       "      <td>...</td>\n",
       "      <td>...</td>\n",
       "      <td>...</td>\n",
       "    </tr>\n",
       "    <tr>\n",
       "      <th>95</th>\n",
       "      <td>I've only made 5 really good films in my caree...</td>\n",
       "      <td>Kriti Kambiri</td>\n",
       "      <td>26 Oct 2021</td>\n",
       "      <td>entertainment</td>\n",
       "      <td>Actress Kristen Stewart has said that she thin...</td>\n",
       "    </tr>\n",
       "    <tr>\n",
       "      <th>96</th>\n",
       "      <td>Jr NTR's fan injured in accident, actor helps ...</td>\n",
       "      <td>Kriti Kambiri</td>\n",
       "      <td>26 Oct 2021</td>\n",
       "      <td>entertainment</td>\n",
       "      <td>A fan of Telugu actor Jr NTR was injured in a ...</td>\n",
       "    </tr>\n",
       "    <tr>\n",
       "      <th>97</th>\n",
       "      <td>Wanted to be part of this family: Angelina on ...</td>\n",
       "      <td>Amartya Sharma</td>\n",
       "      <td>26 Oct 2021</td>\n",
       "      <td>entertainment</td>\n",
       "      <td>Angelina Jolie has said that there were \"many ...</td>\n",
       "    </tr>\n",
       "    <tr>\n",
       "      <th>98</th>\n",
       "      <td>It was 1 story for me: Kabir on not directing ...</td>\n",
       "      <td>Udit Gupta</td>\n",
       "      <td>26 Oct 2021</td>\n",
       "      <td>entertainment</td>\n",
       "      <td>Filmmaker Kabir Khan spoke about why he didn't...</td>\n",
       "    </tr>\n",
       "    <tr>\n",
       "      <th>99</th>\n",
       "      <td>Snoop Dogg's mother passes away, rapper posts ...</td>\n",
       "      <td>Kriti Kambiri</td>\n",
       "      <td>26 Oct 2021</td>\n",
       "      <td>entertainment</td>\n",
       "      <td>Rapper Snoop Dogg on Sunday revealed that his ...</td>\n",
       "    </tr>\n",
       "  </tbody>\n",
       "</table>\n",
       "<p>100 rows × 5 columns</p>\n",
       "</div>"
      ],
      "text/plain": [
       "                                                title          author  \\\n",
       "0   India's Covaxin may get WHO approval in next 2...    Kiran Khatri   \n",
       "1   I decided to support Doge as it felt like the ...  Pragya Swastik   \n",
       "2   Elon Musk tweets 'Wild $T1mes' after Tesla hit...  Pragya Swastik   \n",
       "3   Which companies have $1 trillion or more marke...  Pragya Swastik   \n",
       "4    How many years did it take for various compan...  Pragya Swastik   \n",
       "..                                                ...             ...   \n",
       "95  I've only made 5 really good films in my caree...   Kriti Kambiri   \n",
       "96  Jr NTR's fan injured in accident, actor helps ...   Kriti Kambiri   \n",
       "97  Wanted to be part of this family: Angelina on ...  Amartya Sharma   \n",
       "98  It was 1 story for me: Kabir on not directing ...      Udit Gupta   \n",
       "99  Snoop Dogg's mother passes away, rapper posts ...   Kriti Kambiri   \n",
       "\n",
       "           date       category  \\\n",
       "0   26 Oct 2021       business   \n",
       "1   26 Oct 2021       business   \n",
       "2   26 Oct 2021       business   \n",
       "3   26 Oct 2021       business   \n",
       "4   26 Oct 2021       business   \n",
       "..          ...            ...   \n",
       "95  26 Oct 2021  entertainment   \n",
       "96  26 Oct 2021  entertainment   \n",
       "97  26 Oct 2021  entertainment   \n",
       "98  26 Oct 2021  entertainment   \n",
       "99  26 Oct 2021  entertainment   \n",
       "\n",
       "                                              content  \n",
       "0   A WHO technical advisory group which met on Tu...  \n",
       "1   Tesla CEO and the world's richest person Elon ...  \n",
       "2   Tesla CEO and the world's richest person Elon ...  \n",
       "3   Tesla has become the latest company to surpass...  \n",
       "4   Tesla took 18 years to hit the $1-trillion m-c...  \n",
       "..                                                ...  \n",
       "95  Actress Kristen Stewart has said that she thin...  \n",
       "96  A fan of Telugu actor Jr NTR was injured in a ...  \n",
       "97  Angelina Jolie has said that there were \"many ...  \n",
       "98  Filmmaker Kabir Khan spoke about why he didn't...  \n",
       "99  Rapper Snoop Dogg on Sunday revealed that his ...  \n",
       "\n",
       "[100 rows x 5 columns]"
      ]
     },
     "execution_count": 113,
     "metadata": {},
     "output_type": "execute_result"
    }
   ],
   "source": [
    "pd.DataFrame(news_articles)"
   ]
  },
  {
   "cell_type": "code",
   "execution_count": null,
   "id": "fbf61e3c",
   "metadata": {},
   "outputs": [],
   "source": []
  }
 ],
 "metadata": {
  "kernelspec": {
   "display_name": "Python 3",
   "language": "python",
   "name": "python3"
  },
  "language_info": {
   "codemirror_mode": {
    "name": "ipython",
    "version": 3
   },
   "file_extension": ".py",
   "mimetype": "text/x-python",
   "name": "python",
   "nbconvert_exporter": "python",
   "pygments_lexer": "ipython3",
   "version": "3.9.1"
  }
 },
 "nbformat": 4,
 "nbformat_minor": 5
}
