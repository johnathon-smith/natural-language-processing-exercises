{
 "cells": [
  {
   "cell_type": "markdown",
   "id": "b0759896",
   "metadata": {},
   "source": [
    "# Regex Exercises"
   ]
  },
  {
   "cell_type": "code",
   "execution_count": 1,
   "id": "e97a431d",
   "metadata": {},
   "outputs": [],
   "source": [
    "import numpy as np\n",
    "import pandas as pd\n",
    "import re"
   ]
  },
  {
   "cell_type": "markdown",
   "id": "1ad266df",
   "metadata": {},
   "source": [
    "__1) Write a function named is_vowel. It should accept a string as input and use a regular expression to determine if the passed string is a vowel. While not explicity mentioned in the lesson, you can treat the result of re.search as a boolean value that indicates whether or not the regular expression matches the given string.__"
   ]
  },
  {
   "cell_type": "code",
   "execution_count": 2,
   "id": "18571aa6",
   "metadata": {},
   "outputs": [],
   "source": [
    "def is_vowel(string):\n",
    "    regexp = r'[aeiouAEIOU]'\n",
    "    \n",
    "    return bool(re.search(regexp, string))"
   ]
  },
  {
   "cell_type": "code",
   "execution_count": 3,
   "id": "b7dfedd9",
   "metadata": {},
   "outputs": [
    {
     "data": {
      "text/plain": [
       "True"
      ]
     },
     "execution_count": 3,
     "metadata": {},
     "output_type": "execute_result"
    }
   ],
   "source": [
    "#For testing\n",
    "is_vowel('o')"
   ]
  },
  {
   "cell_type": "code",
   "execution_count": 4,
   "id": "0a933001",
   "metadata": {},
   "outputs": [
    {
     "data": {
      "text/plain": [
       "False"
      ]
     },
     "execution_count": 4,
     "metadata": {},
     "output_type": "execute_result"
    }
   ],
   "source": [
    "#For Testing\n",
    "is_vowel('n')"
   ]
  },
  {
   "cell_type": "markdown",
   "id": "d94b7248",
   "metadata": {},
   "source": [
    "__2) Write a function named is_valid_username that accepts a string as input. A valid username starts with a lowercase letter, and only consists of lowercase letters, numbers, or the _ character. It should also be no longer than 32 characters. The function should return either True or False depending on whether the passed string is a valid username.__"
   ]
  },
  {
   "cell_type": "code",
   "execution_count": 13,
   "id": "9af95315",
   "metadata": {},
   "outputs": [],
   "source": [
    "def is_valid_username(string):\n",
    "    regexp = r'\\b[a-z][a-z0-9_]{1,31}\\b'\n",
    "    \n",
    "    return bool(re.search(regexp, string))"
   ]
  },
  {
   "cell_type": "code",
   "execution_count": 6,
   "id": "ffa916dd",
   "metadata": {},
   "outputs": [
    {
     "data": {
      "text/plain": [
       "False"
      ]
     },
     "execution_count": 6,
     "metadata": {},
     "output_type": "execute_result"
    }
   ],
   "source": [
    "#For testing\n",
    "is_valid_username('123abc')"
   ]
  },
  {
   "cell_type": "code",
   "execution_count": 7,
   "id": "a8d44c99",
   "metadata": {},
   "outputs": [
    {
     "data": {
      "text/plain": [
       "True"
      ]
     },
     "execution_count": 7,
     "metadata": {},
     "output_type": "execute_result"
    }
   ],
   "source": [
    "#For Testing\n",
    "is_valid_username('abc1223__wrx')"
   ]
  },
  {
   "cell_type": "code",
   "execution_count": 15,
   "id": "ded70f02",
   "metadata": {},
   "outputs": [
    {
     "data": {
      "text/plain": [
       "False"
      ]
     },
     "execution_count": 15,
     "metadata": {},
     "output_type": "execute_result"
    }
   ],
   "source": [
    "#For testing (Testing the length parameter)\n",
    "is_valid_username('abcdefghijklmnopqrstuvwxyzabcdefasdfasdf')"
   ]
  },
  {
   "cell_type": "code",
   "execution_count": 17,
   "id": "af1ab8e5",
   "metadata": {},
   "outputs": [
    {
     "data": {
      "text/plain": [
       "False"
      ]
     },
     "execution_count": 17,
     "metadata": {},
     "output_type": "execute_result"
    }
   ],
   "source": [
    "#For testing\n",
    "is_valid_username('Codeup')"
   ]
  },
  {
   "cell_type": "markdown",
   "id": "104dea5a",
   "metadata": {},
   "source": [
    "__3) Write a regular expression to capture phone numbers. It should match all of the following:__\n",
    "\n",
    "* (210) 867 5309\n",
    "* +1 210.867.5309\n",
    "* 867-5309\n",
    "* 210-867-5309"
   ]
  },
  {
   "cell_type": "code",
   "execution_count": 79,
   "id": "29cfefaa",
   "metadata": {},
   "outputs": [],
   "source": [
    "def is_phone_number(string):\n",
    "    regexp = r'(\\+[0-9]\\s)?(\\(?[0-9]{3}\\)?[\\s.-])?[0-9]{3}[\\s.-][0-9]{4}'\n",
    "    \n",
    "    return bool(re.match(regexp, string))"
   ]
  },
  {
   "cell_type": "code",
   "execution_count": 80,
   "id": "bd4cb786",
   "metadata": {},
   "outputs": [
    {
     "data": {
      "text/plain": [
       "True"
      ]
     },
     "execution_count": 80,
     "metadata": {},
     "output_type": "execute_result"
    }
   ],
   "source": [
    "#For testing\n",
    "is_phone_number('(210) 867 5309')"
   ]
  },
  {
   "cell_type": "code",
   "execution_count": 82,
   "id": "3a3ccdea",
   "metadata": {},
   "outputs": [
    {
     "data": {
      "text/plain": [
       "True"
      ]
     },
     "execution_count": 82,
     "metadata": {},
     "output_type": "execute_result"
    }
   ],
   "source": [
    "#For testing\n",
    "is_phone_number('+1 210.867.5309')"
   ]
  },
  {
   "cell_type": "code",
   "execution_count": 83,
   "id": "40e3db72",
   "metadata": {},
   "outputs": [
    {
     "data": {
      "text/plain": [
       "True"
      ]
     },
     "execution_count": 83,
     "metadata": {},
     "output_type": "execute_result"
    }
   ],
   "source": [
    "#For Testing\n",
    "is_phone_number('867-5309')"
   ]
  },
  {
   "cell_type": "code",
   "execution_count": 84,
   "id": "5ad93505",
   "metadata": {},
   "outputs": [
    {
     "data": {
      "text/plain": [
       "True"
      ]
     },
     "execution_count": 84,
     "metadata": {},
     "output_type": "execute_result"
    }
   ],
   "source": [
    "#For Testing\n",
    "is_phone_number('210-867-5309')"
   ]
  },
  {
   "cell_type": "code",
   "execution_count": 85,
   "id": "1911d647",
   "metadata": {},
   "outputs": [
    {
     "data": {
      "text/plain": [
       "False"
      ]
     },
     "execution_count": 85,
     "metadata": {},
     "output_type": "execute_result"
    }
   ],
   "source": [
    "#For Testing\n",
    "is_phone_number('3 3455 9999')"
   ]
  },
  {
   "cell_type": "markdown",
   "id": "29407224",
   "metadata": {},
   "source": [
    "__4) Use regular expressions to convert the dates below to the standardized year-month-day format.__\n",
    "\n",
    "* 02/04/19\n",
    "* 02/05/19\n",
    "* 02/06/19\n",
    "* 02/07/19\n",
    "* 02/08/19\n",
    "* 02/09/19\n",
    "* 02/10/19"
   ]
  },
  {
   "cell_type": "code",
   "execution_count": 92,
   "id": "260ee03d",
   "metadata": {},
   "outputs": [],
   "source": [
    "def convert_date(string):\n",
    "    \n",
    "    #Rearrange the numbers\n",
    "    string = re.sub(r'(\\d{2})/(\\d{2})/(\\d{2})', r'\\3-\\1-\\2', string)\n",
    "    \n",
    "    #Convert they year to 4 digit version (Assume 2000's)\n",
    "    string = re.sub(r'\\b(\\d{2})', r'20\\1', string, count = 1)\n",
    "    \n",
    "    return string"
   ]
  },
  {
   "cell_type": "code",
   "execution_count": 93,
   "id": "72f808ad",
   "metadata": {},
   "outputs": [
    {
     "data": {
      "text/plain": [
       "'2019-02-04'"
      ]
     },
     "execution_count": 93,
     "metadata": {},
     "output_type": "execute_result"
    }
   ],
   "source": [
    "#For testing\n",
    "convert_date('02/04/19')"
   ]
  },
  {
   "cell_type": "code",
   "execution_count": 94,
   "id": "a21f94b1",
   "metadata": {},
   "outputs": [
    {
     "data": {
      "text/plain": [
       "'2019-02-05'"
      ]
     },
     "execution_count": 94,
     "metadata": {},
     "output_type": "execute_result"
    }
   ],
   "source": [
    "convert_date('02/05/19')"
   ]
  },
  {
   "cell_type": "code",
   "execution_count": 95,
   "id": "7104e3db",
   "metadata": {},
   "outputs": [
    {
     "data": {
      "text/plain": [
       "'2019-02-06'"
      ]
     },
     "execution_count": 95,
     "metadata": {},
     "output_type": "execute_result"
    }
   ],
   "source": [
    "convert_date('02/06/19')"
   ]
  },
  {
   "cell_type": "code",
   "execution_count": 96,
   "id": "79d45030",
   "metadata": {},
   "outputs": [
    {
     "data": {
      "text/plain": [
       "'2019-02-07'"
      ]
     },
     "execution_count": 96,
     "metadata": {},
     "output_type": "execute_result"
    }
   ],
   "source": [
    "convert_date('02/07/19')"
   ]
  },
  {
   "cell_type": "code",
   "execution_count": 97,
   "id": "b52e10c1",
   "metadata": {},
   "outputs": [
    {
     "data": {
      "text/plain": [
       "'2019-02-08'"
      ]
     },
     "execution_count": 97,
     "metadata": {},
     "output_type": "execute_result"
    }
   ],
   "source": [
    "convert_date('02/08/19')"
   ]
  },
  {
   "cell_type": "code",
   "execution_count": 98,
   "id": "f2705b81",
   "metadata": {},
   "outputs": [
    {
     "data": {
      "text/plain": [
       "'2019-02-09'"
      ]
     },
     "execution_count": 98,
     "metadata": {},
     "output_type": "execute_result"
    }
   ],
   "source": [
    "convert_date('02/09/19')"
   ]
  },
  {
   "cell_type": "code",
   "execution_count": 99,
   "id": "7a581393",
   "metadata": {},
   "outputs": [
    {
     "data": {
      "text/plain": [
       "'2019-02-10'"
      ]
     },
     "execution_count": 99,
     "metadata": {},
     "output_type": "execute_result"
    }
   ],
   "source": [
    "convert_date('02/10/19')"
   ]
  },
  {
   "cell_type": "markdown",
   "id": "842d934c",
   "metadata": {},
   "source": [
    "__5) Write a regex to extract the various parts of these logfile lines:__\n",
    "    \n",
    "GET /api/v1/sales?page=86 [16/Apr/2019:193452+0000] HTTP/1.1 {200} 510348 \"python-requests/2.21.0\" 97.105.19.58\n",
    "POST /users_accounts/file-upload [16/Apr/2019:193452+0000] HTTP/1.1 {201} 42 \"User-Agent: Mozilla/5.0 (X11; Fedora; Fedora; Linux x86_64) AppleWebKit/537.36 (KHTML, like Gecko) Chrome/73.0.3683.86 Safari/537.36\" 97.105.19.58\n",
    "GET /api/v1/items?page=3 [16/Apr/2019:193453+0000] HTTP/1.1 {429} 3561 \"python-requests/2.21.0\" 97.105.19.58"
   ]
  },
  {
   "cell_type": "code",
   "execution_count": 109,
   "id": "bcd42a2d",
   "metadata": {},
   "outputs": [],
   "source": [
    "def extract_logs(series):\n",
    "    regexp = r'(?P<type>GETPOST)\\s(?P<path>.+?)\\s\\[(?P<date>.+?)\\]\\sHTTP/1.1\\s\\{(?P<response_code>\\d{3})\\}\\s\\d*?\\s\"(User-Agent:\\s)?(?P<user_agent>.+?)\"\\s(?P<ip>.+?)\\s'\n",
    "    \n",
    "    series.str.extract(regexp)"
   ]
  },
  {
   "cell_type": "code",
   "execution_count": 115,
   "id": "c8454b42",
   "metadata": {},
   "outputs": [],
   "source": [
    "#For testing\n",
    "string = 'GET /api/v1/sales?page=86 [16/Apr/2019:193452+0000] HTTP/1.1 {200} 510348 \"python-requests/2.21.0\" 97.105.19.58 POST /users_accounts/file-upload [16/Apr/2019:193452+0000] HTTP/1.1 {201} 42 \"User-Agent: Mozilla/5.0 (X11; Fedora; Fedora; Linux x86_64) AppleWebKit/537.36 (KHTML, like Gecko) Chrome/73.0.3683.86 Safari/537.36\" 97.105.19.58 GET /api/v1/items?page=3 [16/Apr/2019:193453+0000] HTTP/1.1 {429} 3561 \"python-requests/2.21.0\" 97.105.19.58'\n",
    "\n",
    "s = pd.Series(string)"
   ]
  },
  {
   "cell_type": "code",
   "execution_count": 116,
   "id": "8d34bafe",
   "metadata": {},
   "outputs": [],
   "source": [
    "logs = extract_logs(s)"
   ]
  },
  {
   "cell_type": "code",
   "execution_count": 117,
   "id": "8e7e1675",
   "metadata": {},
   "outputs": [],
   "source": [
    "logs"
   ]
  },
  {
   "cell_type": "code",
   "execution_count": 118,
   "id": "8930b247",
   "metadata": {},
   "outputs": [],
   "source": [
    "regexp = r'(?P<type>GETPOST)\\s(?P<path>.+?)\\s\\[(?P<date>.+?)\\]\\sHTTP/1.1\\s\\{(?P<response_code>\\d{3})\\}\\s\\d*?\\s\"(User-Agent:\\s)?(?P<user_agent>.+?)\"\\s(?P<ip>.+?)\\s'\n"
   ]
  },
  {
   "cell_type": "code",
   "execution_count": 119,
   "id": "852410a0",
   "metadata": {},
   "outputs": [],
   "source": [
    "re.search(regexp, string)"
   ]
  },
  {
   "cell_type": "code",
   "execution_count": null,
   "id": "dc4403ea",
   "metadata": {},
   "outputs": [],
   "source": []
  }
 ],
 "metadata": {
  "kernelspec": {
   "display_name": "Python 3",
   "language": "python",
   "name": "python3"
  },
  "language_info": {
   "codemirror_mode": {
    "name": "ipython",
    "version": 3
   },
   "file_extension": ".py",
   "mimetype": "text/x-python",
   "name": "python",
   "nbconvert_exporter": "python",
   "pygments_lexer": "ipython3",
   "version": "3.9.1"
  }
 },
 "nbformat": 4,
 "nbformat_minor": 5
}
