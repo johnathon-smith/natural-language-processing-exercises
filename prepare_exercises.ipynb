{
 "cells": [
  {
   "cell_type": "markdown",
   "id": "7656102c",
   "metadata": {},
   "source": [
    "# Prepare Exercises"
   ]
  },
  {
   "cell_type": "markdown",
   "id": "03ca0549",
   "metadata": {},
   "source": [
    "__1) Define a function named basic_clean. It should take in a string and apply some basic text cleaning to it:__\n",
    "\n",
    "* Lowercase everything\n",
    "* Normalize unicode characters\n",
    "* Replace anything that is not a letter, number, whitespace or a single quote."
   ]
  },
  {
   "cell_type": "code",
   "execution_count": 1,
   "id": "99d51c43",
   "metadata": {},
   "outputs": [],
   "source": [
    "import numpy as np\n",
    "import pandas as pd\n",
    "import acquire\n",
    "import unicodedata\n",
    "import re\n",
    "\n",
    "import nltk\n",
    "from nltk.tokenize.toktok import ToktokTokenizer\n",
    "from nltk.corpus import stopwords"
   ]
  },
  {
   "cell_type": "code",
   "execution_count": 2,
   "id": "05709c04",
   "metadata": {},
   "outputs": [],
   "source": [
    "#Acquire data for testing\n",
    "blog_articles = acquire.get_blog_articles()\n",
    "\n",
    "news_articles = acquire.get_news_articles()"
   ]
  },
  {
   "cell_type": "code",
   "execution_count": 3,
   "id": "38a28512",
   "metadata": {},
   "outputs": [],
   "source": [
    "def basic_clean(string):\n",
    "    \"\"\"\n",
    "    This function will perform basic cleaning of a string. It will reduce all characters \n",
    "    to lower case, normalize unicode characters, and remove anything that is not a \n",
    "    letter, number, whitespace, or a single quote.\n",
    "    \"\"\"\n",
    "    \n",
    "    #Lower case everything\n",
    "    string = string.lower()\n",
    "    \n",
    "    #Normalize unicode characters, \n",
    "    #encode into ascii byte strings and ignore unknown chars,\n",
    "    #decode back into a UTF-8 string that we can work with\n",
    "    string = unicodedata.normalize('NFKD', string).encode('ascii', 'ignore').decode('UTF-8')\n",
    "    \n",
    "    #Use regex to replace anything that is not a letter, number, whitespace, or a single quote\n",
    "    string = re.sub(r\"[^a-z0-9\\s']\", '', string)\n",
    "    \n",
    "    return string"
   ]
  },
  {
   "cell_type": "code",
   "execution_count": 4,
   "id": "efe46965",
   "metadata": {},
   "outputs": [
    {
     "data": {
      "text/plain": [
       "'A WHO technical advisory group which met on Tuesday to consider Bharat Biotech\\'s COVID-19 vaccine Covaxin for emergency use listing is likely to announce its decision soon. \"If all is in place and all goes well and if the committee is satisfied, we would expect a recommendation within the next 24 hours or so,\" WHO spokesperson Margaret Harris told reporters. '"
      ]
     },
     "execution_count": 4,
     "metadata": {},
     "output_type": "execute_result"
    }
   ],
   "source": [
    "original = news_articles.content[0]\n",
    "original"
   ]
  },
  {
   "cell_type": "code",
   "execution_count": 5,
   "id": "f42dd238",
   "metadata": {},
   "outputs": [
    {
     "data": {
      "text/plain": [
       "\"a who technical advisory group which met on tuesday to consider bharat biotech's covid19 vaccine covaxin for emergency use listing is likely to announce its decision soon if all is in place and all goes well and if the committee is satisfied we would expect a recommendation within the next 24 hours or so who spokesperson margaret harris told reporters \""
      ]
     },
     "execution_count": 5,
     "metadata": {},
     "output_type": "execute_result"
    }
   ],
   "source": [
    "#For testing\n",
    "cleaned = basic_clean(original)\n",
    "cleaned"
   ]
  },
  {
   "cell_type": "markdown",
   "id": "3c519604",
   "metadata": {},
   "source": [
    "__2) Define a function named tokenize. It should take in a string and tokenize all the words in the string.__"
   ]
  },
  {
   "cell_type": "code",
   "execution_count": 6,
   "id": "20ec74a3",
   "metadata": {},
   "outputs": [],
   "source": [
    "def tokenize(string):\n",
    "    \"\"\"\n",
    "    This function will tokenize all the words in the given string and return the \n",
    "    tokenized string.\n",
    "    \"\"\"\n",
    "    \n",
    "    #Create the tokenizer\n",
    "    tokenizer = nltk.tokenize.ToktokTokenizer()\n",
    "    \n",
    "    #Use the tokenizer\n",
    "    string = tokenizer.tokenize(string, return_str = True)\n",
    "    \n",
    "    return string"
   ]
  },
  {
   "cell_type": "code",
   "execution_count": 7,
   "id": "e77703a7",
   "metadata": {},
   "outputs": [
    {
     "data": {
      "text/plain": [
       "\"a who technical advisory group which met on tuesday to consider bharat biotech's covid19 vaccine covaxin for emergency use listing is likely to announce its decision soon if all is in place and all goes well and if the committee is satisfied we would expect a recommendation within the next 24 hours or so who spokesperson margaret harris told reporters \""
      ]
     },
     "execution_count": 7,
     "metadata": {},
     "output_type": "execute_result"
    }
   ],
   "source": [
    "#For testing\n",
    "#untokenized\n",
    "cleaned"
   ]
  },
  {
   "cell_type": "code",
   "execution_count": 8,
   "id": "463ffb5a",
   "metadata": {},
   "outputs": [
    {
     "data": {
      "text/plain": [
       "\"a who technical advisory group which met on tuesday to consider bharat biotech ' s covid19 vaccine covaxin for emergency use listing is likely to announce its decision soon if all is in place and all goes well and if the committee is satisfied we would expect a recommendation within the next 24 hours or so who spokesperson margaret harris told reporters\""
      ]
     },
     "execution_count": 8,
     "metadata": {},
     "output_type": "execute_result"
    }
   ],
   "source": [
    "#Tokenized\n",
    "tokenized = tokenize(cleaned)\n",
    "tokenized"
   ]
  },
  {
   "cell_type": "markdown",
   "id": "5d205c72",
   "metadata": {},
   "source": [
    "__3) Define a function named stem. It should accept some text and return the text after applying stemming to all the words.__"
   ]
  },
  {
   "cell_type": "code",
   "execution_count": 9,
   "id": "82462b42",
   "metadata": {},
   "outputs": [],
   "source": [
    "def stem(string):\n",
    "    \"\"\"\n",
    "    This function will accept some text and return a stemmed version of the text.\n",
    "    \"\"\"\n",
    "    \n",
    "    #Create porter stemmer\n",
    "    ps = nltk.porter.PorterStemmer()\n",
    "    \n",
    "    #Apply the stemmer to each word in the string to create a list of stemmed words\n",
    "    stems = [ps.stem(word) for word in string.split()]\n",
    "    \n",
    "    #join our list of stemmed words into a string\n",
    "    string_stemmed = ' '.join(stems)\n",
    "    \n",
    "    return string_stemmed"
   ]
  },
  {
   "cell_type": "code",
   "execution_count": 10,
   "id": "b8431be0",
   "metadata": {},
   "outputs": [
    {
     "data": {
      "text/plain": [
       "\"a who technical advisory group which met on tuesday to consider bharat biotech ' s covid19 vaccine covaxin for emergency use listing is likely to announce its decision soon if all is in place and all goes well and if the committee is satisfied we would expect a recommendation within the next 24 hours or so who spokesperson margaret harris told reporters\""
      ]
     },
     "execution_count": 10,
     "metadata": {},
     "output_type": "execute_result"
    }
   ],
   "source": [
    "#For testing\n",
    "#unstemmed\n",
    "tokenized"
   ]
  },
  {
   "cell_type": "code",
   "execution_count": 11,
   "id": "5e233612",
   "metadata": {},
   "outputs": [
    {
     "data": {
      "text/plain": [
       "\"a who technic advisori group which met on tuesday to consid bharat biotech ' s covid19 vaccin covaxin for emerg use list is like to announc it decis soon if all is in place and all goe well and if the committe is satisfi we would expect a recommend within the next 24 hour or so who spokesperson margaret harri told report\""
      ]
     },
     "execution_count": 11,
     "metadata": {},
     "output_type": "execute_result"
    }
   ],
   "source": [
    "#stemmed\n",
    "stemmed = stem(tokenized)\n",
    "stemmed"
   ]
  },
  {
   "cell_type": "markdown",
   "id": "ef846b44",
   "metadata": {},
   "source": [
    "__4) Define a function named lemmatize. It should accept some text and return the text after applying lemmatization to each word.__"
   ]
  },
  {
   "cell_type": "code",
   "execution_count": 12,
   "id": "8d159473",
   "metadata": {},
   "outputs": [
    {
     "name": "stderr",
     "output_type": "stream",
     "text": [
      "[nltk_data] Downloading package wordnet to\n",
      "[nltk_data]     /Users/johnathonsmith/nltk_data...\n",
      "[nltk_data]   Package wordnet is already up-to-date!\n"
     ]
    },
    {
     "data": {
      "text/plain": [
       "True"
      ]
     },
     "execution_count": 12,
     "metadata": {},
     "output_type": "execute_result"
    }
   ],
   "source": [
    "# Need to download this the first time.\n",
    "nltk.download('wordnet')"
   ]
  },
  {
   "cell_type": "code",
   "execution_count": 13,
   "id": "75a1d82b",
   "metadata": {},
   "outputs": [],
   "source": [
    "def lemmatize(string):\n",
    "    \"\"\"\n",
    "    This function accepts some text and returns the lemmatized version of the string.\n",
    "    \"\"\"\n",
    "    \n",
    "    #Create the lemmatizer\n",
    "    wnl = nltk.stem.WordNetLemmatizer()\n",
    "    \n",
    "    #Use the lemmatizer on each word in the string to create a list of lemmatized words\n",
    "    lemmas = [wnl.lemmatize(word) for word in string.split()]\n",
    "    \n",
    "    #Join the lemmatized words into one string\n",
    "    string_lemmatized = ' '.join(lemmas)\n",
    "    \n",
    "    return string_lemmatized"
   ]
  },
  {
   "cell_type": "code",
   "execution_count": 14,
   "id": "367d4fe2",
   "metadata": {},
   "outputs": [
    {
     "data": {
      "text/plain": [
       "\"a who technical advisory group which met on tuesday to consider bharat biotech ' s covid19 vaccine covaxin for emergency use listing is likely to announce its decision soon if all is in place and all goes well and if the committee is satisfied we would expect a recommendation within the next 24 hours or so who spokesperson margaret harris told reporters\""
      ]
     },
     "execution_count": 14,
     "metadata": {},
     "output_type": "execute_result"
    }
   ],
   "source": [
    "#For testing\n",
    "#Unlemmatized\n",
    "tokenized"
   ]
  },
  {
   "cell_type": "code",
   "execution_count": 15,
   "id": "5bf5c37f",
   "metadata": {},
   "outputs": [
    {
     "data": {
      "text/plain": [
       "\"a who technical advisory group which met on tuesday to consider bharat biotech ' s covid19 vaccine covaxin for emergency use listing is likely to announce it decision soon if all is in place and all go well and if the committee is satisfied we would expect a recommendation within the next 24 hour or so who spokesperson margaret harris told reporter\""
      ]
     },
     "execution_count": 15,
     "metadata": {},
     "output_type": "execute_result"
    }
   ],
   "source": [
    "#Lemmatized\n",
    "lemmatized = lemmatize(tokenized)\n",
    "lemmatized"
   ]
  },
  {
   "cell_type": "markdown",
   "id": "7edb89c4",
   "metadata": {},
   "source": [
    "__5) Define a function named remove_stopwords. It should accept some text and return the text after removing all the stopwords.__\n",
    "\n",
    "This function should define two optional parameters, extra_words and exclude_words. These parameters should define any additional stop words to include, and any words that we don't want to remove."
   ]
  },
  {
   "cell_type": "code",
   "execution_count": 16,
   "id": "75790729",
   "metadata": {},
   "outputs": [
    {
     "name": "stderr",
     "output_type": "stream",
     "text": [
      "[nltk_data] Downloading package stopwords to\n",
      "[nltk_data]     /Users/johnathonsmith/nltk_data...\n",
      "[nltk_data]   Package stopwords is already up-to-date!\n"
     ]
    },
    {
     "data": {
      "text/plain": [
       "True"
      ]
     },
     "execution_count": 16,
     "metadata": {},
     "output_type": "execute_result"
    }
   ],
   "source": [
    "#Download the stopword corpus\n",
    "nltk.download('stopwords')"
   ]
  },
  {
   "cell_type": "code",
   "execution_count": 17,
   "id": "1b34f7cf",
   "metadata": {},
   "outputs": [],
   "source": [
    "def remove_stopwords(string, extra_words = [], exclude_words = []):\n",
    "    \"\"\"\n",
    "    This function will accept a string and return a version of the text without any stopwords.\n",
    "    It will also allow the user to add extra words to remove or exclude words from the removal list.\n",
    "    \"\"\"\n",
    "    #Get the standard english stop word list from nltk\n",
    "    stop_words = stopwords.words('english')\n",
    "    \n",
    "    #Add the extra words to be removed to the stop word list\n",
    "    for word in extra_words:\n",
    "        stop_words.append(word)\n",
    "    \n",
    "    #Remove the words to be excluded from the stop word list\n",
    "    for word in exclude_words:\n",
    "        stop_words.remove(word)\n",
    "    \n",
    "    #Create a list of words to be checked by splitting the given string\n",
    "    words = string.split()\n",
    "    \n",
    "    #Now filter out all of the stop words\n",
    "    filtered_words = [word for word in words if word not in stop_words]\n",
    "    \n",
    "    #Join the list of filtered words into a string\n",
    "    filtered_string = ' '.join(filtered_words)\n",
    "    \n",
    "    return filtered_string"
   ]
  },
  {
   "cell_type": "code",
   "execution_count": 18,
   "id": "277a6468",
   "metadata": {},
   "outputs": [
    {
     "data": {
      "text/plain": [
       "\"a who technical advisory group which met on tuesday to consider bharat biotech ' s covid19 vaccine covaxin for emergency use listing is likely to announce it decision soon if all is in place and all go well and if the committee is satisfied we would expect a recommendation within the next 24 hour or so who spokesperson margaret harris told reporter\""
      ]
     },
     "execution_count": 18,
     "metadata": {},
     "output_type": "execute_result"
    }
   ],
   "source": [
    "#For testing\n",
    "#String with stop words\n",
    "lemmatized"
   ]
  },
  {
   "cell_type": "code",
   "execution_count": 19,
   "id": "2270a308",
   "metadata": {},
   "outputs": [],
   "source": [
    "#Create a list of extra words and words to exclude\n",
    "extra_words = ['group', 'met', 'tuesday']\n",
    "exclude_words = ['the']"
   ]
  },
  {
   "cell_type": "code",
   "execution_count": 20,
   "id": "e44bf98b",
   "metadata": {},
   "outputs": [
    {
     "data": {
      "text/plain": [
       "\"technical advisory consider bharat biotech ' covid19 vaccine covaxin emergency use listing likely announce decision soon place go well the committee satisfied would expect recommendation within the next 24 hour spokesperson margaret harris told reporter\""
      ]
     },
     "execution_count": 20,
     "metadata": {},
     "output_type": "execute_result"
    }
   ],
   "source": [
    "#String without stop words\n",
    "filtered = remove_stopwords(lemmatized, extra_words, exclude_words)\n",
    "filtered"
   ]
  },
  {
   "cell_type": "markdown",
   "id": "a28d1a57",
   "metadata": {},
   "source": [
    "__6) Use your data from the acquire to produce a dataframe of the news articles. Name the dataframe news_df.__"
   ]
  },
  {
   "cell_type": "code",
   "execution_count": 21,
   "id": "d3cf0320",
   "metadata": {},
   "outputs": [
    {
     "data": {
      "text/html": [
       "<div>\n",
       "<style scoped>\n",
       "    .dataframe tbody tr th:only-of-type {\n",
       "        vertical-align: middle;\n",
       "    }\n",
       "\n",
       "    .dataframe tbody tr th {\n",
       "        vertical-align: top;\n",
       "    }\n",
       "\n",
       "    .dataframe thead th {\n",
       "        text-align: right;\n",
       "    }\n",
       "</style>\n",
       "<table border=\"1\" class=\"dataframe\">\n",
       "  <thead>\n",
       "    <tr style=\"text-align: right;\">\n",
       "      <th></th>\n",
       "      <th>title</th>\n",
       "      <th>author</th>\n",
       "      <th>date</th>\n",
       "      <th>category</th>\n",
       "      <th>content</th>\n",
       "    </tr>\n",
       "  </thead>\n",
       "  <tbody>\n",
       "    <tr>\n",
       "      <th>0</th>\n",
       "      <td>India's Covaxin may get WHO approval in next 2...</td>\n",
       "      <td>Kiran Khatri</td>\n",
       "      <td>26 Oct 2021</td>\n",
       "      <td>business</td>\n",
       "      <td>A WHO technical advisory group which met on Tu...</td>\n",
       "    </tr>\n",
       "    <tr>\n",
       "      <th>1</th>\n",
       "      <td>I decided to support Doge as it felt like the ...</td>\n",
       "      <td>Pragya Swastik</td>\n",
       "      <td>26 Oct 2021</td>\n",
       "      <td>business</td>\n",
       "      <td>Tesla CEO and the world's richest person Elon ...</td>\n",
       "    </tr>\n",
       "    <tr>\n",
       "      <th>2</th>\n",
       "      <td>Which companies have $1 trillion or more marke...</td>\n",
       "      <td>Pragya Swastik</td>\n",
       "      <td>26 Oct 2021</td>\n",
       "      <td>business</td>\n",
       "      <td>Tesla has become the latest company to surpass...</td>\n",
       "    </tr>\n",
       "    <tr>\n",
       "      <th>3</th>\n",
       "      <td>Elon Musk tweets 'Wild $T1mes' after Tesla hit...</td>\n",
       "      <td>Pragya Swastik</td>\n",
       "      <td>26 Oct 2021</td>\n",
       "      <td>business</td>\n",
       "      <td>Tesla CEO and the world's richest person Elon ...</td>\n",
       "    </tr>\n",
       "    <tr>\n",
       "      <th>4</th>\n",
       "      <td>How many years did it take for various compan...</td>\n",
       "      <td>Pragya Swastik</td>\n",
       "      <td>26 Oct 2021</td>\n",
       "      <td>business</td>\n",
       "      <td>Tesla took 18 years to hit the $1-trillion m-c...</td>\n",
       "    </tr>\n",
       "    <tr>\n",
       "      <th>...</th>\n",
       "      <td>...</td>\n",
       "      <td>...</td>\n",
       "      <td>...</td>\n",
       "      <td>...</td>\n",
       "      <td>...</td>\n",
       "    </tr>\n",
       "    <tr>\n",
       "      <th>95</th>\n",
       "      <td>'Rust' shooting an avoidable tragedy: Brandon ...</td>\n",
       "      <td>Kriti Kambiri</td>\n",
       "      <td>26 Oct 2021</td>\n",
       "      <td>entertainment</td>\n",
       "      <td>Late actor Brandon Lee's fianceé Eliza Hutton ...</td>\n",
       "    </tr>\n",
       "    <tr>\n",
       "      <th>96</th>\n",
       "      <td>I've only made 5 really good films in my caree...</td>\n",
       "      <td>Kriti Kambiri</td>\n",
       "      <td>26 Oct 2021</td>\n",
       "      <td>entertainment</td>\n",
       "      <td>Actress Kristen Stewart has said that she thin...</td>\n",
       "    </tr>\n",
       "    <tr>\n",
       "      <th>97</th>\n",
       "      <td>Jr NTR's fan injured in accident, actor helps ...</td>\n",
       "      <td>Kriti Kambiri</td>\n",
       "      <td>26 Oct 2021</td>\n",
       "      <td>entertainment</td>\n",
       "      <td>A fan of Telugu actor Jr NTR was injured in a ...</td>\n",
       "    </tr>\n",
       "    <tr>\n",
       "      <th>98</th>\n",
       "      <td>It seems unreal: Adarsh on working with Meryl,...</td>\n",
       "      <td>Udit Gupta</td>\n",
       "      <td>26 Oct 2021</td>\n",
       "      <td>entertainment</td>\n",
       "      <td>Adarsh Gourav has started shooting for 'Extrap...</td>\n",
       "    </tr>\n",
       "    <tr>\n",
       "      <th>99</th>\n",
       "      <td>Wanted to be part of this family: Angelina on ...</td>\n",
       "      <td>Amartya Sharma</td>\n",
       "      <td>26 Oct 2021</td>\n",
       "      <td>entertainment</td>\n",
       "      <td>Angelina Jolie has said that there were \"many ...</td>\n",
       "    </tr>\n",
       "  </tbody>\n",
       "</table>\n",
       "<p>100 rows × 5 columns</p>\n",
       "</div>"
      ],
      "text/plain": [
       "                                                title          author  \\\n",
       "0   India's Covaxin may get WHO approval in next 2...    Kiran Khatri   \n",
       "1   I decided to support Doge as it felt like the ...  Pragya Swastik   \n",
       "2   Which companies have $1 trillion or more marke...  Pragya Swastik   \n",
       "3   Elon Musk tweets 'Wild $T1mes' after Tesla hit...  Pragya Swastik   \n",
       "4    How many years did it take for various compan...  Pragya Swastik   \n",
       "..                                                ...             ...   \n",
       "95  'Rust' shooting an avoidable tragedy: Brandon ...   Kriti Kambiri   \n",
       "96  I've only made 5 really good films in my caree...   Kriti Kambiri   \n",
       "97  Jr NTR's fan injured in accident, actor helps ...   Kriti Kambiri   \n",
       "98  It seems unreal: Adarsh on working with Meryl,...      Udit Gupta   \n",
       "99  Wanted to be part of this family: Angelina on ...  Amartya Sharma   \n",
       "\n",
       "           date       category  \\\n",
       "0   26 Oct 2021       business   \n",
       "1   26 Oct 2021       business   \n",
       "2   26 Oct 2021       business   \n",
       "3   26 Oct 2021       business   \n",
       "4   26 Oct 2021       business   \n",
       "..          ...            ...   \n",
       "95  26 Oct 2021  entertainment   \n",
       "96  26 Oct 2021  entertainment   \n",
       "97  26 Oct 2021  entertainment   \n",
       "98  26 Oct 2021  entertainment   \n",
       "99  26 Oct 2021  entertainment   \n",
       "\n",
       "                                              content  \n",
       "0   A WHO technical advisory group which met on Tu...  \n",
       "1   Tesla CEO and the world's richest person Elon ...  \n",
       "2   Tesla has become the latest company to surpass...  \n",
       "3   Tesla CEO and the world's richest person Elon ...  \n",
       "4   Tesla took 18 years to hit the $1-trillion m-c...  \n",
       "..                                                ...  \n",
       "95  Late actor Brandon Lee's fianceé Eliza Hutton ...  \n",
       "96  Actress Kristen Stewart has said that she thin...  \n",
       "97  A fan of Telugu actor Jr NTR was injured in a ...  \n",
       "98  Adarsh Gourav has started shooting for 'Extrap...  \n",
       "99  Angelina Jolie has said that there were \"many ...  \n",
       "\n",
       "[100 rows x 5 columns]"
      ]
     },
     "execution_count": 21,
     "metadata": {},
     "output_type": "execute_result"
    }
   ],
   "source": [
    "news_df = acquire.get_news_articles()\n",
    "news_df"
   ]
  },
  {
   "cell_type": "markdown",
   "id": "82966f92",
   "metadata": {},
   "source": [
    "__7) Make another dataframe for the Codeup blog posts. Name the dataframe codeup_df.__"
   ]
  },
  {
   "cell_type": "code",
   "execution_count": 22,
   "id": "e33b6888",
   "metadata": {},
   "outputs": [
    {
     "data": {
      "text/html": [
       "<div>\n",
       "<style scoped>\n",
       "    .dataframe tbody tr th:only-of-type {\n",
       "        vertical-align: middle;\n",
       "    }\n",
       "\n",
       "    .dataframe tbody tr th {\n",
       "        vertical-align: top;\n",
       "    }\n",
       "\n",
       "    .dataframe thead th {\n",
       "        text-align: right;\n",
       "    }\n",
       "</style>\n",
       "<table border=\"1\" class=\"dataframe\">\n",
       "  <thead>\n",
       "    <tr style=\"text-align: right;\">\n",
       "      <th></th>\n",
       "      <th>title</th>\n",
       "      <th>date</th>\n",
       "      <th>category</th>\n",
       "      <th>content</th>\n",
       "    </tr>\n",
       "  </thead>\n",
       "  <tbody>\n",
       "    <tr>\n",
       "      <th>0</th>\n",
       "      <td>Codeup’s Data Science Career Accelerator is Here!</td>\n",
       "      <td>Sep 30, 2018</td>\n",
       "      <td>Data Science</td>\n",
       "      <td>The rumors are true! The time has arrived. Cod...</td>\n",
       "    </tr>\n",
       "    <tr>\n",
       "      <th>1</th>\n",
       "      <td>Data Science Myths</td>\n",
       "      <td>Oct 31, 2018</td>\n",
       "      <td>Data Science</td>\n",
       "      <td>By Dimitri Antoniou and Maggie Giust Data Scie...</td>\n",
       "    </tr>\n",
       "    <tr>\n",
       "      <th>2</th>\n",
       "      <td>Data Science VS Data Analytics: What’s The Dif...</td>\n",
       "      <td>Oct 17, 2018</td>\n",
       "      <td>Data Science</td>\n",
       "      <td>By Dimitri Antoniou A week ago, Codeup launche...</td>\n",
       "    </tr>\n",
       "    <tr>\n",
       "      <th>3</th>\n",
       "      <td>10 Tips to Crush It at the SA Tech Job Fair</td>\n",
       "      <td>Aug 14, 2018</td>\n",
       "      <td>Tips for Prospective Students</td>\n",
       "      <td>SA Tech Job Fair The third bi-annual San Anton...</td>\n",
       "    </tr>\n",
       "    <tr>\n",
       "      <th>4</th>\n",
       "      <td>Competitor Bootcamps Are Closing. Is the Model...</td>\n",
       "      <td>Aug 14, 2018</td>\n",
       "      <td>Codeup News</td>\n",
       "      <td>Competitor Bootcamps Are Closing. Is the Model...</td>\n",
       "    </tr>\n",
       "  </tbody>\n",
       "</table>\n",
       "</div>"
      ],
      "text/plain": [
       "                                               title          date  \\\n",
       "0  Codeup’s Data Science Career Accelerator is Here!  Sep 30, 2018   \n",
       "1                                 Data Science Myths  Oct 31, 2018   \n",
       "2  Data Science VS Data Analytics: What’s The Dif...  Oct 17, 2018   \n",
       "3        10 Tips to Crush It at the SA Tech Job Fair  Aug 14, 2018   \n",
       "4  Competitor Bootcamps Are Closing. Is the Model...  Aug 14, 2018   \n",
       "\n",
       "                        category  \\\n",
       "0                   Data Science   \n",
       "1                   Data Science   \n",
       "2                   Data Science   \n",
       "3  Tips for Prospective Students   \n",
       "4                    Codeup News   \n",
       "\n",
       "                                             content  \n",
       "0  The rumors are true! The time has arrived. Cod...  \n",
       "1  By Dimitri Antoniou and Maggie Giust Data Scie...  \n",
       "2  By Dimitri Antoniou A week ago, Codeup launche...  \n",
       "3  SA Tech Job Fair The third bi-annual San Anton...  \n",
       "4  Competitor Bootcamps Are Closing. Is the Model...  "
      ]
     },
     "execution_count": 22,
     "metadata": {},
     "output_type": "execute_result"
    }
   ],
   "source": [
    "codeup_df = acquire.get_blog_articles()\n",
    "codeup_df"
   ]
  },
  {
   "cell_type": "markdown",
   "id": "d2cbca54",
   "metadata": {},
   "source": [
    "__8) For each dataframe, produce the following columns:__\n",
    "\n",
    "* title to hold the title\n",
    "* original to hold the original article/post content\n",
    "* clean to hold the normalized and tokenized original with the stopwords removed.\n",
    "* stemmed to hold the stemmed version of the cleaned data.\n",
    "* lemmatized to hold the lemmatized version of the cleaned data."
   ]
  },
  {
   "cell_type": "code",
   "execution_count": 23,
   "id": "d31e8da8",
   "metadata": {},
   "outputs": [],
   "source": [
    "news_df.rename(columns = {'content':'original'}, inplace = True)\n",
    "codeup_df.rename(columns = {'content':'original'}, inplace = True)"
   ]
  },
  {
   "cell_type": "code",
   "execution_count": 24,
   "id": "32bc64d1",
   "metadata": {},
   "outputs": [
    {
     "data": {
      "text/html": [
       "<div>\n",
       "<style scoped>\n",
       "    .dataframe tbody tr th:only-of-type {\n",
       "        vertical-align: middle;\n",
       "    }\n",
       "\n",
       "    .dataframe tbody tr th {\n",
       "        vertical-align: top;\n",
       "    }\n",
       "\n",
       "    .dataframe thead th {\n",
       "        text-align: right;\n",
       "    }\n",
       "</style>\n",
       "<table border=\"1\" class=\"dataframe\">\n",
       "  <thead>\n",
       "    <tr style=\"text-align: right;\">\n",
       "      <th></th>\n",
       "      <th>title</th>\n",
       "      <th>author</th>\n",
       "      <th>date</th>\n",
       "      <th>category</th>\n",
       "      <th>original</th>\n",
       "      <th>clean</th>\n",
       "      <th>stemmed</th>\n",
       "      <th>lemmatized</th>\n",
       "    </tr>\n",
       "  </thead>\n",
       "  <tbody>\n",
       "    <tr>\n",
       "      <th>0</th>\n",
       "      <td>India's Covaxin may get WHO approval in next 2...</td>\n",
       "      <td>Kiran Khatri</td>\n",
       "      <td>26 Oct 2021</td>\n",
       "      <td>business</td>\n",
       "      <td>A WHO technical advisory group which met on Tu...</td>\n",
       "      <td>technical advisory group met tuesday consider ...</td>\n",
       "      <td>technic advisori group met tuesday consid bhar...</td>\n",
       "      <td>technical advisory group met tuesday consider ...</td>\n",
       "    </tr>\n",
       "    <tr>\n",
       "      <th>1</th>\n",
       "      <td>I decided to support Doge as it felt like the ...</td>\n",
       "      <td>Pragya Swastik</td>\n",
       "      <td>26 Oct 2021</td>\n",
       "      <td>business</td>\n",
       "      <td>Tesla CEO and the world's richest person Elon ...</td>\n",
       "      <td>tesla ceo world ' richest person elon musk sai...</td>\n",
       "      <td>tesla ceo world ' richest person elon musk sai...</td>\n",
       "      <td>tesla ceo world ' richest person elon musk sai...</td>\n",
       "    </tr>\n",
       "    <tr>\n",
       "      <th>2</th>\n",
       "      <td>Which companies have $1 trillion or more marke...</td>\n",
       "      <td>Pragya Swastik</td>\n",
       "      <td>26 Oct 2021</td>\n",
       "      <td>business</td>\n",
       "      <td>Tesla has become the latest company to surpass...</td>\n",
       "      <td>tesla become latest company surpass 1 trillion...</td>\n",
       "      <td>tesla ha becom latest compani surpass 1 trilli...</td>\n",
       "      <td>tesla ha become latest company surpass 1 trill...</td>\n",
       "    </tr>\n",
       "    <tr>\n",
       "      <th>3</th>\n",
       "      <td>Elon Musk tweets 'Wild $T1mes' after Tesla hit...</td>\n",
       "      <td>Pragya Swastik</td>\n",
       "      <td>26 Oct 2021</td>\n",
       "      <td>business</td>\n",
       "      <td>Tesla CEO and the world's richest person Elon ...</td>\n",
       "      <td>tesla ceo world ' richest person elon musk twe...</td>\n",
       "      <td>tesla ceo world ' richest person elon musk twe...</td>\n",
       "      <td>tesla ceo world ' richest person elon musk twe...</td>\n",
       "    </tr>\n",
       "    <tr>\n",
       "      <th>4</th>\n",
       "      <td>How many years did it take for various compan...</td>\n",
       "      <td>Pragya Swastik</td>\n",
       "      <td>26 Oct 2021</td>\n",
       "      <td>business</td>\n",
       "      <td>Tesla took 18 years to hit the $1-trillion m-c...</td>\n",
       "      <td>tesla took 18 years hit 1trillion mcap milesto...</td>\n",
       "      <td>tesla took 18 year hit 1trillion mcap mileston...</td>\n",
       "      <td>tesla took 18 year hit 1trillion mcap mileston...</td>\n",
       "    </tr>\n",
       "    <tr>\n",
       "      <th>...</th>\n",
       "      <td>...</td>\n",
       "      <td>...</td>\n",
       "      <td>...</td>\n",
       "      <td>...</td>\n",
       "      <td>...</td>\n",
       "      <td>...</td>\n",
       "      <td>...</td>\n",
       "      <td>...</td>\n",
       "    </tr>\n",
       "    <tr>\n",
       "      <th>95</th>\n",
       "      <td>'Rust' shooting an avoidable tragedy: Brandon ...</td>\n",
       "      <td>Kriti Kambiri</td>\n",
       "      <td>26 Oct 2021</td>\n",
       "      <td>entertainment</td>\n",
       "      <td>Late actor Brandon Lee's fianceé Eliza Hutton ...</td>\n",
       "      <td>late actor brandon lee ' fiancee eliza hutton ...</td>\n",
       "      <td>late actor brandon lee ' fiance eliza hutton c...</td>\n",
       "      <td>late actor brandon lee ' fiancee eliza hutton ...</td>\n",
       "    </tr>\n",
       "    <tr>\n",
       "      <th>96</th>\n",
       "      <td>I've only made 5 really good films in my caree...</td>\n",
       "      <td>Kriti Kambiri</td>\n",
       "      <td>26 Oct 2021</td>\n",
       "      <td>entertainment</td>\n",
       "      <td>Actress Kristen Stewart has said that she thin...</td>\n",
       "      <td>actress kristen stewart said thinks done five ...</td>\n",
       "      <td>actress kristen stewart ha said think ha onli ...</td>\n",
       "      <td>actress kristen stewart ha said think ha done ...</td>\n",
       "    </tr>\n",
       "    <tr>\n",
       "      <th>97</th>\n",
       "      <td>Jr NTR's fan injured in accident, actor helps ...</td>\n",
       "      <td>Kriti Kambiri</td>\n",
       "      <td>26 Oct 2021</td>\n",
       "      <td>entertainment</td>\n",
       "      <td>A fan of Telugu actor Jr NTR was injured in a ...</td>\n",
       "      <td>fan telugu actor jr ntr injured road accident ...</td>\n",
       "      <td>fan telugu actor jr ntr wa injur road accid an...</td>\n",
       "      <td>fan telugu actor jr ntr wa injured road accide...</td>\n",
       "    </tr>\n",
       "    <tr>\n",
       "      <th>98</th>\n",
       "      <td>It seems unreal: Adarsh on working with Meryl,...</td>\n",
       "      <td>Udit Gupta</td>\n",
       "      <td>26 Oct 2021</td>\n",
       "      <td>entertainment</td>\n",
       "      <td>Adarsh Gourav has started shooting for 'Extrap...</td>\n",
       "      <td>adarsh gourav started shooting ' extrapolation...</td>\n",
       "      <td>adarsh gourav ha start shoot ' extrapol ' eigh...</td>\n",
       "      <td>adarsh gourav ha started shooting ' extrapolat...</td>\n",
       "    </tr>\n",
       "    <tr>\n",
       "      <th>99</th>\n",
       "      <td>Wanted to be part of this family: Angelina on ...</td>\n",
       "      <td>Amartya Sharma</td>\n",
       "      <td>26 Oct 2021</td>\n",
       "      <td>entertainment</td>\n",
       "      <td>Angelina Jolie has said that there were \"many ...</td>\n",
       "      <td>angelina jolie said many reasons attracted pla...</td>\n",
       "      <td>angelina joli ha said mani reason whi wa attra...</td>\n",
       "      <td>angelina jolie ha said many reason wa attracte...</td>\n",
       "    </tr>\n",
       "  </tbody>\n",
       "</table>\n",
       "<p>100 rows × 8 columns</p>\n",
       "</div>"
      ],
      "text/plain": [
       "                                                title          author  \\\n",
       "0   India's Covaxin may get WHO approval in next 2...    Kiran Khatri   \n",
       "1   I decided to support Doge as it felt like the ...  Pragya Swastik   \n",
       "2   Which companies have $1 trillion or more marke...  Pragya Swastik   \n",
       "3   Elon Musk tweets 'Wild $T1mes' after Tesla hit...  Pragya Swastik   \n",
       "4    How many years did it take for various compan...  Pragya Swastik   \n",
       "..                                                ...             ...   \n",
       "95  'Rust' shooting an avoidable tragedy: Brandon ...   Kriti Kambiri   \n",
       "96  I've only made 5 really good films in my caree...   Kriti Kambiri   \n",
       "97  Jr NTR's fan injured in accident, actor helps ...   Kriti Kambiri   \n",
       "98  It seems unreal: Adarsh on working with Meryl,...      Udit Gupta   \n",
       "99  Wanted to be part of this family: Angelina on ...  Amartya Sharma   \n",
       "\n",
       "           date       category  \\\n",
       "0   26 Oct 2021       business   \n",
       "1   26 Oct 2021       business   \n",
       "2   26 Oct 2021       business   \n",
       "3   26 Oct 2021       business   \n",
       "4   26 Oct 2021       business   \n",
       "..          ...            ...   \n",
       "95  26 Oct 2021  entertainment   \n",
       "96  26 Oct 2021  entertainment   \n",
       "97  26 Oct 2021  entertainment   \n",
       "98  26 Oct 2021  entertainment   \n",
       "99  26 Oct 2021  entertainment   \n",
       "\n",
       "                                             original  \\\n",
       "0   A WHO technical advisory group which met on Tu...   \n",
       "1   Tesla CEO and the world's richest person Elon ...   \n",
       "2   Tesla has become the latest company to surpass...   \n",
       "3   Tesla CEO and the world's richest person Elon ...   \n",
       "4   Tesla took 18 years to hit the $1-trillion m-c...   \n",
       "..                                                ...   \n",
       "95  Late actor Brandon Lee's fianceé Eliza Hutton ...   \n",
       "96  Actress Kristen Stewart has said that she thin...   \n",
       "97  A fan of Telugu actor Jr NTR was injured in a ...   \n",
       "98  Adarsh Gourav has started shooting for 'Extrap...   \n",
       "99  Angelina Jolie has said that there were \"many ...   \n",
       "\n",
       "                                                clean  \\\n",
       "0   technical advisory group met tuesday consider ...   \n",
       "1   tesla ceo world ' richest person elon musk sai...   \n",
       "2   tesla become latest company surpass 1 trillion...   \n",
       "3   tesla ceo world ' richest person elon musk twe...   \n",
       "4   tesla took 18 years hit 1trillion mcap milesto...   \n",
       "..                                                ...   \n",
       "95  late actor brandon lee ' fiancee eliza hutton ...   \n",
       "96  actress kristen stewart said thinks done five ...   \n",
       "97  fan telugu actor jr ntr injured road accident ...   \n",
       "98  adarsh gourav started shooting ' extrapolation...   \n",
       "99  angelina jolie said many reasons attracted pla...   \n",
       "\n",
       "                                              stemmed  \\\n",
       "0   technic advisori group met tuesday consid bhar...   \n",
       "1   tesla ceo world ' richest person elon musk sai...   \n",
       "2   tesla ha becom latest compani surpass 1 trilli...   \n",
       "3   tesla ceo world ' richest person elon musk twe...   \n",
       "4   tesla took 18 year hit 1trillion mcap mileston...   \n",
       "..                                                ...   \n",
       "95  late actor brandon lee ' fiance eliza hutton c...   \n",
       "96  actress kristen stewart ha said think ha onli ...   \n",
       "97  fan telugu actor jr ntr wa injur road accid an...   \n",
       "98  adarsh gourav ha start shoot ' extrapol ' eigh...   \n",
       "99  angelina joli ha said mani reason whi wa attra...   \n",
       "\n",
       "                                           lemmatized  \n",
       "0   technical advisory group met tuesday consider ...  \n",
       "1   tesla ceo world ' richest person elon musk sai...  \n",
       "2   tesla ha become latest company surpass 1 trill...  \n",
       "3   tesla ceo world ' richest person elon musk twe...  \n",
       "4   tesla took 18 year hit 1trillion mcap mileston...  \n",
       "..                                                ...  \n",
       "95  late actor brandon lee ' fiancee eliza hutton ...  \n",
       "96  actress kristen stewart ha said think ha done ...  \n",
       "97  fan telugu actor jr ntr wa injured road accide...  \n",
       "98  adarsh gourav ha started shooting ' extrapolat...  \n",
       "99  angelina jolie ha said many reason wa attracte...  \n",
       "\n",
       "[100 rows x 8 columns]"
      ]
     },
     "execution_count": 24,
     "metadata": {},
     "output_type": "execute_result"
    }
   ],
   "source": [
    "#news_df first\n",
    "news_df['clean'] = news_df['original']\n",
    "\n",
    "#apply the basic_clean, tokenize, and remove_stopwords functions\n",
    "news_df['clean'] = news_df['clean'].apply(basic_clean)\n",
    "news_df['clean'] = news_df['clean'].apply(tokenize)\n",
    "\n",
    "#create the stemmed column\n",
    "news_df['stemmed'] = news_df['clean']\n",
    "\n",
    "#apply the stem function\n",
    "news_df['stemmed'] = news_df['stemmed'].apply(stem).apply(remove_stopwords)\n",
    "\n",
    "#create the lematize column\n",
    "news_df['lemmatized'] = news_df['clean']\n",
    "\n",
    "#apply the lemmatize function\n",
    "news_df['lemmatized'] = news_df['lemmatized'].apply(lemmatize).apply(remove_stopwords)\n",
    "\n",
    "#apply the remove_stopwords function to the 'clean' column\n",
    "news_df['clean'] = news_df['clean'].apply(remove_stopwords)\n",
    "\n",
    "news_df"
   ]
  },
  {
   "cell_type": "code",
   "execution_count": 25,
   "id": "80965929",
   "metadata": {},
   "outputs": [
    {
     "data": {
      "text/html": [
       "<div>\n",
       "<style scoped>\n",
       "    .dataframe tbody tr th:only-of-type {\n",
       "        vertical-align: middle;\n",
       "    }\n",
       "\n",
       "    .dataframe tbody tr th {\n",
       "        vertical-align: top;\n",
       "    }\n",
       "\n",
       "    .dataframe thead th {\n",
       "        text-align: right;\n",
       "    }\n",
       "</style>\n",
       "<table border=\"1\" class=\"dataframe\">\n",
       "  <thead>\n",
       "    <tr style=\"text-align: right;\">\n",
       "      <th></th>\n",
       "      <th>title</th>\n",
       "      <th>date</th>\n",
       "      <th>category</th>\n",
       "      <th>original</th>\n",
       "      <th>clean</th>\n",
       "      <th>stemmed</th>\n",
       "      <th>lemmatized</th>\n",
       "    </tr>\n",
       "  </thead>\n",
       "  <tbody>\n",
       "    <tr>\n",
       "      <th>0</th>\n",
       "      <td>Codeup’s Data Science Career Accelerator is Here!</td>\n",
       "      <td>Sep 30, 2018</td>\n",
       "      <td>Data Science</td>\n",
       "      <td>The rumors are true! The time has arrived. Cod...</td>\n",
       "      <td>rumors true time arrived codeup officially ope...</td>\n",
       "      <td>rumor true time ha arriv codeup ha offici open...</td>\n",
       "      <td>rumor true time ha arrived codeup ha officiall...</td>\n",
       "    </tr>\n",
       "    <tr>\n",
       "      <th>1</th>\n",
       "      <td>Data Science Myths</td>\n",
       "      <td>Oct 31, 2018</td>\n",
       "      <td>Data Science</td>\n",
       "      <td>By Dimitri Antoniou and Maggie Giust Data Scie...</td>\n",
       "      <td>dimitri antoniou maggie giust data science big...</td>\n",
       "      <td>dimitri antoni maggi giust data scienc big dat...</td>\n",
       "      <td>dimitri antoniou maggie giust data science big...</td>\n",
       "    </tr>\n",
       "    <tr>\n",
       "      <th>2</th>\n",
       "      <td>Data Science VS Data Analytics: What’s The Dif...</td>\n",
       "      <td>Oct 17, 2018</td>\n",
       "      <td>Data Science</td>\n",
       "      <td>By Dimitri Antoniou A week ago, Codeup launche...</td>\n",
       "      <td>dimitri antoniou week ago codeup launched imme...</td>\n",
       "      <td>dimitri antoni week ago codeup launch immers d...</td>\n",
       "      <td>dimitri antoniou week ago codeup launched imme...</td>\n",
       "    </tr>\n",
       "    <tr>\n",
       "      <th>3</th>\n",
       "      <td>10 Tips to Crush It at the SA Tech Job Fair</td>\n",
       "      <td>Aug 14, 2018</td>\n",
       "      <td>Tips for Prospective Students</td>\n",
       "      <td>SA Tech Job Fair The third bi-annual San Anton...</td>\n",
       "      <td>sa tech job fair third biannual san antonio te...</td>\n",
       "      <td>sa tech job fair third biannual san antonio te...</td>\n",
       "      <td>sa tech job fair third biannual san antonio te...</td>\n",
       "    </tr>\n",
       "    <tr>\n",
       "      <th>4</th>\n",
       "      <td>Competitor Bootcamps Are Closing. Is the Model...</td>\n",
       "      <td>Aug 14, 2018</td>\n",
       "      <td>Codeup News</td>\n",
       "      <td>Competitor Bootcamps Are Closing. Is the Model...</td>\n",
       "      <td>competitor bootcamps closing model danger prog...</td>\n",
       "      <td>competitor bootcamp close model danger program...</td>\n",
       "      <td>competitor bootcamps closing model danger prog...</td>\n",
       "    </tr>\n",
       "  </tbody>\n",
       "</table>\n",
       "</div>"
      ],
      "text/plain": [
       "                                               title          date  \\\n",
       "0  Codeup’s Data Science Career Accelerator is Here!  Sep 30, 2018   \n",
       "1                                 Data Science Myths  Oct 31, 2018   \n",
       "2  Data Science VS Data Analytics: What’s The Dif...  Oct 17, 2018   \n",
       "3        10 Tips to Crush It at the SA Tech Job Fair  Aug 14, 2018   \n",
       "4  Competitor Bootcamps Are Closing. Is the Model...  Aug 14, 2018   \n",
       "\n",
       "                        category  \\\n",
       "0                   Data Science   \n",
       "1                   Data Science   \n",
       "2                   Data Science   \n",
       "3  Tips for Prospective Students   \n",
       "4                    Codeup News   \n",
       "\n",
       "                                            original  \\\n",
       "0  The rumors are true! The time has arrived. Cod...   \n",
       "1  By Dimitri Antoniou and Maggie Giust Data Scie...   \n",
       "2  By Dimitri Antoniou A week ago, Codeup launche...   \n",
       "3  SA Tech Job Fair The third bi-annual San Anton...   \n",
       "4  Competitor Bootcamps Are Closing. Is the Model...   \n",
       "\n",
       "                                               clean  \\\n",
       "0  rumors true time arrived codeup officially ope...   \n",
       "1  dimitri antoniou maggie giust data science big...   \n",
       "2  dimitri antoniou week ago codeup launched imme...   \n",
       "3  sa tech job fair third biannual san antonio te...   \n",
       "4  competitor bootcamps closing model danger prog...   \n",
       "\n",
       "                                             stemmed  \\\n",
       "0  rumor true time ha arriv codeup ha offici open...   \n",
       "1  dimitri antoni maggi giust data scienc big dat...   \n",
       "2  dimitri antoni week ago codeup launch immers d...   \n",
       "3  sa tech job fair third biannual san antonio te...   \n",
       "4  competitor bootcamp close model danger program...   \n",
       "\n",
       "                                          lemmatized  \n",
       "0  rumor true time ha arrived codeup ha officiall...  \n",
       "1  dimitri antoniou maggie giust data science big...  \n",
       "2  dimitri antoniou week ago codeup launched imme...  \n",
       "3  sa tech job fair third biannual san antonio te...  \n",
       "4  competitor bootcamps closing model danger prog...  "
      ]
     },
     "execution_count": 25,
     "metadata": {},
     "output_type": "execute_result"
    }
   ],
   "source": [
    "#Now do the codeup_df\n",
    "codeup_df['clean'] = codeup_df['original']\n",
    "\n",
    "#apply the basic_clean, and tokenize functions\n",
    "codeup_df['clean'] = codeup_df['clean'].apply(basic_clean)\n",
    "codeup_df['clean'] = codeup_df['clean'].apply(tokenize)\n",
    "\n",
    "#create the stemmed column\n",
    "codeup_df['stemmed'] = codeup_df['clean']\n",
    "\n",
    "#apply the stem and stop_words functions\n",
    "codeup_df['stemmed'] = codeup_df['stemmed'].apply(stem).apply(remove_stopwords)\n",
    "\n",
    "#create the lematize column\n",
    "codeup_df['lemmatized'] = codeup_df['clean']\n",
    "\n",
    "#apply the lemmatize function\n",
    "codeup_df['lemmatized'] = codeup_df['lemmatized'].apply(lemmatize).apply(remove_stopwords)\n",
    "\n",
    "#apply the remove_stopwords function to the 'clean' column\n",
    "codeup_df['clean'] = codeup_df['clean'].apply(remove_stopwords)\n",
    "\n",
    "codeup_df"
   ]
  },
  {
   "cell_type": "markdown",
   "id": "c1f01a70",
   "metadata": {},
   "source": [
    "__9) Ask yourself:__\n",
    "\n",
    "* If your corpus is 493KB, would you prefer to use stemmed or lemmatized text?\n",
    "\n",
    "Since this corpus is pretty small, I would prefer to use lemmatized text.\n",
    "\n",
    "\n",
    "* If your corpus is 25MB, would you prefer to use stemmed or lemmatized text?\n",
    "\n",
    "This corpus is larger, but not too large, so I would prefer to use lemmatized text.\n",
    "\n",
    "\n",
    "* If your corpus is 200TB of text and you're charged by the megabyte for your hosted computational resources, would you prefer to use stemmed or lemmatized text?\n",
    "\n",
    "Since this corpus is massive, I would definitely prefer to use stemmed text. It will be much faster."
   ]
  },
  {
   "cell_type": "code",
   "execution_count": null,
   "id": "bc8d7b14",
   "metadata": {},
   "outputs": [],
   "source": []
  }
 ],
 "metadata": {
  "kernelspec": {
   "display_name": "Python 3",
   "language": "python",
   "name": "python3"
  },
  "language_info": {
   "codemirror_mode": {
    "name": "ipython",
    "version": 3
   },
   "file_extension": ".py",
   "mimetype": "text/x-python",
   "name": "python",
   "nbconvert_exporter": "python",
   "pygments_lexer": "ipython3",
   "version": "3.9.1"
  }
 },
 "nbformat": 4,
 "nbformat_minor": 5
}
